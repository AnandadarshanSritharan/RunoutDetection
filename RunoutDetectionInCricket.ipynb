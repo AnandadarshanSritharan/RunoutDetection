{
  "cells": [
    {
      "cell_type": "markdown",
      "metadata": {
        "id": "8i0FfiCxQEsY"
      },
      "source": [
        "## **Ultralytics and other libraries install**"
      ]
    },
    {
      "cell_type": "code",
      "execution_count": null,
      "metadata": {
        "colab": {
          "base_uri": "https://localhost:8080/"
        },
        "collapsed": true,
        "id": "PUno187alTKo",
        "outputId": "2544896b-566a-4e39-f708-23567b7e3839"
      },
      "outputs": [
        {
          "output_type": "stream",
          "name": "stdout",
          "text": [
            "Collecting ultralytics\n",
            "  Downloading ultralytics-8.2.75-py3-none-any.whl.metadata (41 kB)\n",
            "\u001b[?25l     \u001b[90m━━━━━━━━━━━━━━━━━━━━━━━━━━━━━━━━━━━━━━━━\u001b[0m \u001b[32m0.0/41.3 kB\u001b[0m \u001b[31m?\u001b[0m eta \u001b[36m-:--:--\u001b[0m\r\u001b[2K     \u001b[90m━━━━━━━━━━━━━━━━━━━━━━━━━━━━━━━━━━━━━━━━\u001b[0m \u001b[32m41.3/41.3 kB\u001b[0m \u001b[31m1.0 MB/s\u001b[0m eta \u001b[36m0:00:00\u001b[0m\n",
            "\u001b[?25hRequirement already satisfied: numpy<2.0.0,>=1.23.0 in /usr/local/lib/python3.10/dist-packages (from ultralytics) (1.26.4)\n",
            "Requirement already satisfied: matplotlib>=3.3.0 in /usr/local/lib/python3.10/dist-packages (from ultralytics) (3.7.1)\n",
            "Requirement already satisfied: opencv-python>=4.6.0 in /usr/local/lib/python3.10/dist-packages (from ultralytics) (4.10.0.84)\n",
            "Requirement already satisfied: pillow>=7.1.2 in /usr/local/lib/python3.10/dist-packages (from ultralytics) (9.4.0)\n",
            "Requirement already satisfied: pyyaml>=5.3.1 in /usr/local/lib/python3.10/dist-packages (from ultralytics) (6.0.1)\n",
            "Requirement already satisfied: requests>=2.23.0 in /usr/local/lib/python3.10/dist-packages (from ultralytics) (2.32.3)\n",
            "Requirement already satisfied: scipy>=1.4.1 in /usr/local/lib/python3.10/dist-packages (from ultralytics) (1.13.1)\n",
            "Requirement already satisfied: torch>=1.8.0 in /usr/local/lib/python3.10/dist-packages (from ultralytics) (2.3.1+cu121)\n",
            "Requirement already satisfied: torchvision>=0.9.0 in /usr/local/lib/python3.10/dist-packages (from ultralytics) (0.18.1+cu121)\n",
            "Requirement already satisfied: tqdm>=4.64.0 in /usr/local/lib/python3.10/dist-packages (from ultralytics) (4.66.5)\n",
            "Requirement already satisfied: psutil in /usr/local/lib/python3.10/dist-packages (from ultralytics) (5.9.5)\n",
            "Requirement already satisfied: py-cpuinfo in /usr/local/lib/python3.10/dist-packages (from ultralytics) (9.0.0)\n",
            "Requirement already satisfied: pandas>=1.1.4 in /usr/local/lib/python3.10/dist-packages (from ultralytics) (2.1.4)\n",
            "Requirement already satisfied: seaborn>=0.11.0 in /usr/local/lib/python3.10/dist-packages (from ultralytics) (0.13.1)\n",
            "Collecting ultralytics-thop>=2.0.0 (from ultralytics)\n",
            "  Downloading ultralytics_thop-2.0.0-py3-none-any.whl.metadata (8.5 kB)\n",
            "Requirement already satisfied: contourpy>=1.0.1 in /usr/local/lib/python3.10/dist-packages (from matplotlib>=3.3.0->ultralytics) (1.2.1)\n",
            "Requirement already satisfied: cycler>=0.10 in /usr/local/lib/python3.10/dist-packages (from matplotlib>=3.3.0->ultralytics) (0.12.1)\n",
            "Requirement already satisfied: fonttools>=4.22.0 in /usr/local/lib/python3.10/dist-packages (from matplotlib>=3.3.0->ultralytics) (4.53.1)\n",
            "Requirement already satisfied: kiwisolver>=1.0.1 in /usr/local/lib/python3.10/dist-packages (from matplotlib>=3.3.0->ultralytics) (1.4.5)\n",
            "Requirement already satisfied: packaging>=20.0 in /usr/local/lib/python3.10/dist-packages (from matplotlib>=3.3.0->ultralytics) (24.1)\n",
            "Requirement already satisfied: pyparsing>=2.3.1 in /usr/local/lib/python3.10/dist-packages (from matplotlib>=3.3.0->ultralytics) (3.1.2)\n",
            "Requirement already satisfied: python-dateutil>=2.7 in /usr/local/lib/python3.10/dist-packages (from matplotlib>=3.3.0->ultralytics) (2.8.2)\n",
            "Requirement already satisfied: pytz>=2020.1 in /usr/local/lib/python3.10/dist-packages (from pandas>=1.1.4->ultralytics) (2024.1)\n",
            "Requirement already satisfied: tzdata>=2022.1 in /usr/local/lib/python3.10/dist-packages (from pandas>=1.1.4->ultralytics) (2024.1)\n",
            "Requirement already satisfied: charset-normalizer<4,>=2 in /usr/local/lib/python3.10/dist-packages (from requests>=2.23.0->ultralytics) (3.3.2)\n",
            "Requirement already satisfied: idna<4,>=2.5 in /usr/local/lib/python3.10/dist-packages (from requests>=2.23.0->ultralytics) (3.7)\n",
            "Requirement already satisfied: urllib3<3,>=1.21.1 in /usr/local/lib/python3.10/dist-packages (from requests>=2.23.0->ultralytics) (2.0.7)\n",
            "Requirement already satisfied: certifi>=2017.4.17 in /usr/local/lib/python3.10/dist-packages (from requests>=2.23.0->ultralytics) (2024.7.4)\n",
            "Requirement already satisfied: filelock in /usr/local/lib/python3.10/dist-packages (from torch>=1.8.0->ultralytics) (3.15.4)\n",
            "Requirement already satisfied: typing-extensions>=4.8.0 in /usr/local/lib/python3.10/dist-packages (from torch>=1.8.0->ultralytics) (4.12.2)\n",
            "Requirement already satisfied: sympy in /usr/local/lib/python3.10/dist-packages (from torch>=1.8.0->ultralytics) (1.13.1)\n",
            "Requirement already satisfied: networkx in /usr/local/lib/python3.10/dist-packages (from torch>=1.8.0->ultralytics) (3.3)\n",
            "Requirement already satisfied: jinja2 in /usr/local/lib/python3.10/dist-packages (from torch>=1.8.0->ultralytics) (3.1.4)\n",
            "Requirement already satisfied: fsspec in /usr/local/lib/python3.10/dist-packages (from torch>=1.8.0->ultralytics) (2024.6.1)\n",
            "Collecting nvidia-cuda-nvrtc-cu12==12.1.105 (from torch>=1.8.0->ultralytics)\n",
            "  Using cached nvidia_cuda_nvrtc_cu12-12.1.105-py3-none-manylinux1_x86_64.whl.metadata (1.5 kB)\n",
            "Collecting nvidia-cuda-runtime-cu12==12.1.105 (from torch>=1.8.0->ultralytics)\n",
            "  Using cached nvidia_cuda_runtime_cu12-12.1.105-py3-none-manylinux1_x86_64.whl.metadata (1.5 kB)\n",
            "Collecting nvidia-cuda-cupti-cu12==12.1.105 (from torch>=1.8.0->ultralytics)\n",
            "  Using cached nvidia_cuda_cupti_cu12-12.1.105-py3-none-manylinux1_x86_64.whl.metadata (1.6 kB)\n",
            "Collecting nvidia-cudnn-cu12==8.9.2.26 (from torch>=1.8.0->ultralytics)\n",
            "  Using cached nvidia_cudnn_cu12-8.9.2.26-py3-none-manylinux1_x86_64.whl.metadata (1.6 kB)\n",
            "Collecting nvidia-cublas-cu12==12.1.3.1 (from torch>=1.8.0->ultralytics)\n",
            "  Using cached nvidia_cublas_cu12-12.1.3.1-py3-none-manylinux1_x86_64.whl.metadata (1.5 kB)\n",
            "Collecting nvidia-cufft-cu12==11.0.2.54 (from torch>=1.8.0->ultralytics)\n",
            "  Using cached nvidia_cufft_cu12-11.0.2.54-py3-none-manylinux1_x86_64.whl.metadata (1.5 kB)\n",
            "Collecting nvidia-curand-cu12==10.3.2.106 (from torch>=1.8.0->ultralytics)\n",
            "  Using cached nvidia_curand_cu12-10.3.2.106-py3-none-manylinux1_x86_64.whl.metadata (1.5 kB)\n",
            "Collecting nvidia-cusolver-cu12==11.4.5.107 (from torch>=1.8.0->ultralytics)\n",
            "  Using cached nvidia_cusolver_cu12-11.4.5.107-py3-none-manylinux1_x86_64.whl.metadata (1.6 kB)\n",
            "Collecting nvidia-cusparse-cu12==12.1.0.106 (from torch>=1.8.0->ultralytics)\n",
            "  Using cached nvidia_cusparse_cu12-12.1.0.106-py3-none-manylinux1_x86_64.whl.metadata (1.6 kB)\n",
            "Collecting nvidia-nccl-cu12==2.20.5 (from torch>=1.8.0->ultralytics)\n",
            "  Using cached nvidia_nccl_cu12-2.20.5-py3-none-manylinux2014_x86_64.whl.metadata (1.8 kB)\n",
            "Collecting nvidia-nvtx-cu12==12.1.105 (from torch>=1.8.0->ultralytics)\n",
            "  Using cached nvidia_nvtx_cu12-12.1.105-py3-none-manylinux1_x86_64.whl.metadata (1.7 kB)\n",
            "Requirement already satisfied: triton==2.3.1 in /usr/local/lib/python3.10/dist-packages (from torch>=1.8.0->ultralytics) (2.3.1)\n",
            "Collecting nvidia-nvjitlink-cu12 (from nvidia-cusolver-cu12==11.4.5.107->torch>=1.8.0->ultralytics)\n",
            "  Using cached nvidia_nvjitlink_cu12-12.6.20-py3-none-manylinux2014_x86_64.whl.metadata (1.5 kB)\n",
            "Requirement already satisfied: six>=1.5 in /usr/local/lib/python3.10/dist-packages (from python-dateutil>=2.7->matplotlib>=3.3.0->ultralytics) (1.16.0)\n",
            "Requirement already satisfied: MarkupSafe>=2.0 in /usr/local/lib/python3.10/dist-packages (from jinja2->torch>=1.8.0->ultralytics) (2.1.5)\n",
            "Requirement already satisfied: mpmath<1.4,>=1.1.0 in /usr/local/lib/python3.10/dist-packages (from sympy->torch>=1.8.0->ultralytics) (1.3.0)\n",
            "Downloading ultralytics-8.2.75-py3-none-any.whl (865 kB)\n",
            "\u001b[2K   \u001b[90m━━━━━━━━━━━━━━━━━━━━━━━━━━━━━━━━━━━━━━━━\u001b[0m \u001b[32m865.6/865.6 kB\u001b[0m \u001b[31m16.3 MB/s\u001b[0m eta \u001b[36m0:00:00\u001b[0m\n",
            "\u001b[?25hUsing cached nvidia_cublas_cu12-12.1.3.1-py3-none-manylinux1_x86_64.whl (410.6 MB)\n",
            "Using cached nvidia_cuda_cupti_cu12-12.1.105-py3-none-manylinux1_x86_64.whl (14.1 MB)\n",
            "Using cached nvidia_cuda_nvrtc_cu12-12.1.105-py3-none-manylinux1_x86_64.whl (23.7 MB)\n",
            "Using cached nvidia_cuda_runtime_cu12-12.1.105-py3-none-manylinux1_x86_64.whl (823 kB)\n",
            "Using cached nvidia_cudnn_cu12-8.9.2.26-py3-none-manylinux1_x86_64.whl (731.7 MB)\n",
            "Using cached nvidia_cufft_cu12-11.0.2.54-py3-none-manylinux1_x86_64.whl (121.6 MB)\n",
            "Using cached nvidia_curand_cu12-10.3.2.106-py3-none-manylinux1_x86_64.whl (56.5 MB)\n",
            "Using cached nvidia_cusolver_cu12-11.4.5.107-py3-none-manylinux1_x86_64.whl (124.2 MB)\n",
            "Using cached nvidia_cusparse_cu12-12.1.0.106-py3-none-manylinux1_x86_64.whl (196.0 MB)\n",
            "Using cached nvidia_nccl_cu12-2.20.5-py3-none-manylinux2014_x86_64.whl (176.2 MB)\n",
            "Using cached nvidia_nvtx_cu12-12.1.105-py3-none-manylinux1_x86_64.whl (99 kB)\n",
            "Downloading ultralytics_thop-2.0.0-py3-none-any.whl (25 kB)\n",
            "Using cached nvidia_nvjitlink_cu12-12.6.20-py3-none-manylinux2014_x86_64.whl (19.7 MB)\n",
            "Installing collected packages: nvidia-nvtx-cu12, nvidia-nvjitlink-cu12, nvidia-nccl-cu12, nvidia-curand-cu12, nvidia-cufft-cu12, nvidia-cuda-runtime-cu12, nvidia-cuda-nvrtc-cu12, nvidia-cuda-cupti-cu12, nvidia-cublas-cu12, nvidia-cusparse-cu12, nvidia-cudnn-cu12, nvidia-cusolver-cu12, ultralytics-thop, ultralytics\n",
            "Successfully installed nvidia-cublas-cu12-12.1.3.1 nvidia-cuda-cupti-cu12-12.1.105 nvidia-cuda-nvrtc-cu12-12.1.105 nvidia-cuda-runtime-cu12-12.1.105 nvidia-cudnn-cu12-8.9.2.26 nvidia-cufft-cu12-11.0.2.54 nvidia-curand-cu12-10.3.2.106 nvidia-cusolver-cu12-11.4.5.107 nvidia-cusparse-cu12-12.1.0.106 nvidia-nccl-cu12-2.20.5 nvidia-nvjitlink-cu12-12.6.20 nvidia-nvtx-cu12-12.1.105 ultralytics-8.2.75 ultralytics-thop-2.0.0\n"
          ]
        }
      ],
      "source": [
        "#PIP install\n",
        "!pip install ultralytics"
      ]
    },
    {
      "cell_type": "code",
      "execution_count": null,
      "metadata": {
        "colab": {
          "base_uri": "https://localhost:8080/"
        },
        "id": "rVswSMDOlzRi",
        "outputId": "d5407d8b-855d-4e10-9b9c-0da8cd4c7859"
      },
      "outputs": [
        {
          "output_type": "stream",
          "name": "stdout",
          "text": [
            "Requirement already satisfied: tqdm in /usr/local/lib/python3.10/dist-packages (4.66.5)\n"
          ]
        }
      ],
      "source": [
        "## importing required libraries\n",
        "import os\n",
        "import shutil\n",
        "import random\n",
        "\n",
        "!pip install tqdm --upgrade\n",
        "from tqdm.notebook import tqdm"
      ]
    },
    {
      "cell_type": "markdown",
      "metadata": {
        "id": "0ZyrqpFRQbRh"
      },
      "source": [
        "## **Drive Mount**"
      ]
    },
    {
      "cell_type": "code",
      "execution_count": null,
      "metadata": {
        "colab": {
          "base_uri": "https://localhost:8080/"
        },
        "id": "UPerU3_Pl46n",
        "outputId": "a919bbea-716c-42eb-eb23-1cd04aee5857"
      },
      "outputs": [
        {
          "output_type": "stream",
          "name": "stdout",
          "text": [
            "Drive already mounted at /content/drive; to attempt to forcibly remount, call drive.mount(\"/content/drive\", force_remount=True).\n"
          ]
        }
      ],
      "source": [
        "from google.colab import drive\n",
        "drive.mount('/content/drive')"
      ]
    },
    {
      "cell_type": "markdown",
      "metadata": {
        "id": "syBfae6nQhNW"
      },
      "source": [
        "## **Augmentation**\n",
        "\n",
        "Augmentation is done using the albumentation.ai which is an advanced library that helps the images to tranform in a given form. This dataset have been tranformed by horizontal flip, vertical flip, resizing and included with the original dataset for better training of the model"
      ]
    },
    {
      "cell_type": "code",
      "execution_count": null,
      "metadata": {
        "id": "KhWQWCjATx5p"
      },
      "outputs": [],
      "source": [
        "import os\n",
        "import json\n",
        "import numpy as np\n",
        "from PIL import Image\n",
        "import albumentations as A"
      ]
    },
    {
      "cell_type": "markdown",
      "metadata": {
        "id": "BkUQntQ2RA1k"
      },
      "source": [
        "### **Bounding Box Class**\n",
        "\n",
        "This class is used for working with the coordinations of the bounding boxes that are stored in the labels in YOLO format and turn them into pascal VOC format which is suitable for the albumentation"
      ]
    },
    {
      "cell_type": "code",
      "execution_count": null,
      "metadata": {
        "id": "gZrxKSB2USvg"
      },
      "outputs": [],
      "source": [
        "class BoundingBox:\n",
        "    def __init__(self, class_id, center_x, center_y, width, height):\n",
        "        self.class_id = class_id\n",
        "        self.center_x = center_x\n",
        "        self.center_y = center_y\n",
        "        self.width = width\n",
        "        self.height = height\n",
        "\n",
        "    def to_albumentations_bbox(self, image_width, image_height):\n",
        "        # Convert to Pascal VOC format for Albumentations\n",
        "        x_min = (self.center_x - self.width / 2) * image_width\n",
        "        y_min = (self.center_y - self.height / 2) * image_height\n",
        "        x_max = (self.center_x + self.width / 2) * image_width\n",
        "        y_max = (self.center_y + self.height / 2) * image_height\n",
        "        return [x_min, y_min, x_max, y_max]\n",
        "\n",
        "    @staticmethod\n",
        "    def from_albumentations_bbox(bbox, class_id, image_width, image_height):\n",
        "        # Convert from Pascal VOC format back to YOLO format\n",
        "        x_min, y_min, x_max, y_max = bbox\n",
        "        center_x = (x_min + x_max) / 2 / image_width\n",
        "        center_y = (y_min + y_max) / 2 / image_height\n",
        "        width = (x_max - x_min) / image_width\n",
        "        height = (y_max - y_min) / image_height\n",
        "        return BoundingBox(class_id, center_x, center_y, width, height)"
      ]
    },
    {
      "cell_type": "code",
      "execution_count": null,
      "metadata": {
        "id": "CIPG7tUMYHI-"
      },
      "outputs": [],
      "source": [
        "def load_yolo_labels(label_path):\n",
        "    boxes = []\n",
        "    with open(label_path, 'r') as f:\n",
        "        for line in f:\n",
        "            class_id, center_x, center_y, width, height = map(float, line.strip().split())\n",
        "            boxes.append(BoundingBox(class_id, center_x, center_y, width, height))\n",
        "    return boxes\n",
        "\n",
        "def save_yolo_labels(label_path, boxes):\n",
        "    with open(label_path, 'w') as f:\n",
        "        for box in boxes:\n",
        "            f.write(f\"{int(box.class_id)} {box.center_x} {box.center_y} {box.width} {box.height}\\n\")\n"
      ]
    },
    {
      "cell_type": "markdown",
      "metadata": {
        "id": "UCqraTQKR1yy"
      },
      "source": [
        "### **Setting up paths for the augmentation -> input and output path directories**"
      ]
    },
    {
      "cell_type": "code",
      "execution_count": null,
      "metadata": {
        "id": "R7hSzvqPW7pd"
      },
      "outputs": [],
      "source": [
        "# Paths\n",
        "image_dir = \"/content/drive/MyDrive/dataset2/images/train\"\n",
        "label_dir = \"/content/drive/MyDrive/dataset2/labels/train\"\n",
        "output_image_dir = \"/content/drive/MyDrive/aug/images/train\"\n",
        "output_label_dir = \"/content/drive/MyDrive/aug/labels/train\"\n",
        "\n",
        "os.makedirs(output_image_dir, exist_ok=True)\n",
        "os.makedirs(output_label_dir, exist_ok=True)"
      ]
    },
    {
      "cell_type": "markdown",
      "metadata": {
        "id": "Ovp2CNm3SR6T"
      },
      "source": [
        "### **Horizontal Flip**"
      ]
    },
    {
      "cell_type": "code",
      "execution_count": null,
      "metadata": {
        "id": "m2IfZkTYW_O5"
      },
      "outputs": [],
      "source": [
        "# Horizontal flip transformation\n",
        "horizontal_flip_transform = A.Compose([\n",
        "    A.HorizontalFlip(p=1.0)\n",
        "], bbox_params=A.BboxParams(format='pascal_voc', label_fields=['class_labels']))\n"
      ]
    },
    {
      "cell_type": "code",
      "execution_count": null,
      "metadata": {
        "colab": {
          "base_uri": "https://localhost:8080/",
          "height": 211
        },
        "id": "T-URUQHmXCrh",
        "outputId": "69bd9f1f-5ccd-4d95-b81c-c08ab935bb77"
      },
      "outputs": [
        {
          "ename": "FileNotFoundError",
          "evalue": "[Errno 2] No such file or directory: '/content/drive/MyDrive/dataset2/images/train'",
          "output_type": "error",
          "traceback": [
            "\u001b[0;31m---------------------------------------------------------------------------\u001b[0m",
            "\u001b[0;31mFileNotFoundError\u001b[0m                         Traceback (most recent call last)",
            "\u001b[0;32m<ipython-input-83-813f59328d05>\u001b[0m in \u001b[0;36m<cell line: 2>\u001b[0;34m()\u001b[0m\n\u001b[1;32m      1\u001b[0m \u001b[0;31m# Process each image and its labels\u001b[0m\u001b[0;34m\u001b[0m\u001b[0;34m\u001b[0m\u001b[0m\n\u001b[0;32m----> 2\u001b[0;31m \u001b[0;32mfor\u001b[0m \u001b[0mfilename\u001b[0m \u001b[0;32min\u001b[0m \u001b[0mos\u001b[0m\u001b[0;34m.\u001b[0m\u001b[0mlistdir\u001b[0m\u001b[0;34m(\u001b[0m\u001b[0mimage_dir\u001b[0m\u001b[0;34m)\u001b[0m\u001b[0;34m:\u001b[0m\u001b[0;34m\u001b[0m\u001b[0;34m\u001b[0m\u001b[0m\n\u001b[0m\u001b[1;32m      3\u001b[0m     \u001b[0;32mif\u001b[0m \u001b[0;34m(\u001b[0m\u001b[0mfilename\u001b[0m\u001b[0;34m.\u001b[0m\u001b[0mendswith\u001b[0m\u001b[0;34m(\u001b[0m\u001b[0;34m'.jpg'\u001b[0m\u001b[0;34m)\u001b[0m \u001b[0;32mor\u001b[0m \u001b[0mfilename\u001b[0m\u001b[0;34m.\u001b[0m\u001b[0mendswith\u001b[0m\u001b[0;34m(\u001b[0m\u001b[0;34m'.png'\u001b[0m\u001b[0;34m)\u001b[0m\u001b[0;34m)\u001b[0m \u001b[0;32mand\u001b[0m \u001b[0mfilename\u001b[0m \u001b[0;34m!=\u001b[0m \u001b[0;34m'80.png'\u001b[0m\u001b[0;34m:\u001b[0m\u001b[0;34m\u001b[0m\u001b[0;34m\u001b[0m\u001b[0m\n\u001b[1;32m      4\u001b[0m         \u001b[0;31m# Load image\u001b[0m\u001b[0;34m\u001b[0m\u001b[0;34m\u001b[0m\u001b[0m\n\u001b[1;32m      5\u001b[0m         \u001b[0mimage_path\u001b[0m \u001b[0;34m=\u001b[0m \u001b[0mos\u001b[0m\u001b[0;34m.\u001b[0m\u001b[0mpath\u001b[0m\u001b[0;34m.\u001b[0m\u001b[0mjoin\u001b[0m\u001b[0;34m(\u001b[0m\u001b[0mimage_dir\u001b[0m\u001b[0;34m,\u001b[0m \u001b[0mfilename\u001b[0m\u001b[0;34m)\u001b[0m\u001b[0;34m\u001b[0m\u001b[0;34m\u001b[0m\u001b[0m\n",
            "\u001b[0;31mFileNotFoundError\u001b[0m: [Errno 2] No such file or directory: '/content/drive/MyDrive/dataset2/images/train'"
          ]
        }
      ],
      "source": [
        "# Process each image and its labels\n",
        "for filename in os.listdir(image_dir):\n",
        "    if (filename.endswith('.jpg') or filename.endswith('.png')) and filename != '80.png':\n",
        "        # Load image\n",
        "        image_path = os.path.join(image_dir, filename)\n",
        "        print(f\"Processing image: {image_path}\")\n",
        "        image = np.array(Image.open(image_path).convert(\"RGB\"))\n",
        "        image_height, image_width = image.shape[:2]\n",
        "\n",
        "        # Load bounding boxes and labels\n",
        "        label_path = os.path.join(label_dir, filename.replace('.jpg', '.txt').replace('.png', '.txt'))\n",
        "        print(f\"Loading labels from: {label_path}\")\n",
        "        boxes = load_yolo_labels(label_path)\n",
        "        class_labels = [box.class_id for box in boxes]\n",
        "        albumentations_bboxes = [box.to_albumentations_bbox(image_width, image_height) for box in boxes]\n",
        "\n",
        "        # Apply transformation\n",
        "        transform_pipeline_result = horizontal_flip_transform(\n",
        "            image=image,\n",
        "            bboxes=albumentations_bboxes,\n",
        "            class_labels=class_labels\n",
        "        )\n",
        "        transformed_image = transform_pipeline_result[\"image\"]\n",
        "        transformed_bboxes = transform_pipeline_result[\"bboxes\"]\n",
        "\n",
        "        # Convert back to YOLO format\n",
        "        transformed_boxes = [BoundingBox.from_albumentations_bbox(bbox, class_id, image_width, image_height)\n",
        "                             for bbox, class_id in zip(transformed_bboxes, class_labels)]\n",
        "\n",
        "        # Save transformed image\n",
        "        transformed_image_filename = f\"hf_{filename}\"\n",
        "        transformed_image_path = os.path.join(output_image_dir, transformed_image_filename)\n",
        "        print(f\"Saving transformed image to: {transformed_image_path}\")\n",
        "        Image.fromarray(transformed_image).save(transformed_image_path)\n",
        "\n",
        "        # Save transformed bounding boxes and labels\n",
        "        transformed_label_filename = f\"hf_{filename.replace('.jpg', '.txt').replace('.png', '.txt')}\"\n",
        "        transformed_label_path = os.path.join(output_label_dir, transformed_label_filename)\n",
        "        print(f\"Saving transformed labels to: {transformed_label_path}\")\n",
        "        save_yolo_labels(transformed_label_path, transformed_boxes)\n",
        "\n",
        "print(\"Processing complete!\")"
      ]
    },
    {
      "cell_type": "markdown",
      "metadata": {
        "id": "Cf0qd6IJ74nG"
      },
      "source": [
        "### **Hue Transform**"
      ]
    },
    {
      "cell_type": "code",
      "execution_count": null,
      "metadata": {
        "id": "TcvATSiU78mo"
      },
      "outputs": [],
      "source": [
        "# Hue transform pipeline\n",
        "hue_transform = A.Compose([\n",
        "    A.HueSaturationValue(hue_shift_limit=20, sat_shift_limit=30, val_shift_limit=20, p=1.0)\n",
        "], bbox_params=A.BboxParams(format='pascal_voc', label_fields=['class_labels']))"
      ]
    },
    {
      "cell_type": "code",
      "execution_count": null,
      "metadata": {
        "id": "4LFueDCS8VEI"
      },
      "outputs": [],
      "source": [
        "# Process each image and its labels\n",
        "for filename in os.listdir(image_dir):\n",
        "    if (filename.endswith('.jpg') or filename.endswith('.png')) and filename != '80.png':\n",
        "        # Load image\n",
        "        image_path = os.path.join(image_dir, filename)\n",
        "        print(f\"Processing image: {image_path}\")\n",
        "        image = np.array(Image.open(image_path).convert(\"RGB\"))\n",
        "        image_height, image_width = image.shape[:2]\n",
        "\n",
        "        # Load bounding boxes and labels\n",
        "        label_path = os.path.join(label_dir, filename.replace('.jpg', '.txt').replace('.png', '.txt'))\n",
        "        print(f\"Loading labels from: {label_path}\")\n",
        "        boxes = load_yolo_labels(label_path)\n",
        "        class_labels = [box.class_id for box in boxes]\n",
        "        albumentations_bboxes = [box.to_albumentations_bbox(image_width, image_height) for box in boxes]\n",
        "\n",
        "        # Apply transformation\n",
        "        transform_pipeline_result = hue_transform(\n",
        "            image=image,\n",
        "            bboxes=albumentations_bboxes,\n",
        "            class_labels=class_labels\n",
        "        )\n",
        "        transformed_image = transform_pipeline_result[\"image\"]\n",
        "        transformed_bboxes = transform_pipeline_result[\"bboxes\"]\n",
        "\n",
        "        # Convert back to YOLO format\n",
        "        transformed_boxes = [BoundingBox.from_albumentations_bbox(bbox, class_id, image_width, image_height)\n",
        "                             for bbox, class_id in zip(transformed_bboxes, class_labels)]\n",
        "\n",
        "        # Save transformed image\n",
        "        transformed_image_filename = f\"hue_{filename}\"\n",
        "        transformed_image_path = os.path.join(output_image_dir, transformed_image_filename)\n",
        "        print(f\"Saving transformed image to: {transformed_image_path}\")\n",
        "        Image.fromarray(transformed_image).save(transformed_image_path)\n",
        "\n",
        "        # Save transformed bounding boxes and labels\n",
        "        transformed_label_filename = f\"hue_{filename.replace('.jpg', '.txt').replace('.png', '.txt')}\"\n",
        "        transformed_label_path = os.path.join(output_label_dir, transformed_label_filename)\n",
        "        print(f\"Saving transformed labels to: {transformed_label_path}\")\n",
        "        save_yolo_labels(transformed_label_path, transformed_boxes)\n",
        "\n",
        "print(\"Processing complete!\")"
      ]
    },
    {
      "cell_type": "markdown",
      "metadata": {
        "id": "hISs3z_aSVz_"
      },
      "source": [
        "### **Vertical Flip**"
      ]
    },
    {
      "cell_type": "code",
      "execution_count": null,
      "metadata": {
        "id": "IHn1UxZUygs1"
      },
      "outputs": [],
      "source": [
        "# Vertical flip transformation\n",
        "vertical_flip_transform = A.Compose([\n",
        "    A.VerticalFlip(p=1.0)\n",
        "], bbox_params=A.BboxParams(format='pascal_voc', label_fields=['class_labels']))"
      ]
    },
    {
      "cell_type": "code",
      "execution_count": null,
      "metadata": {
        "collapsed": true,
        "id": "uBCT6V5zyfmv"
      },
      "outputs": [],
      "source": [
        "# Process each image and its labels\n",
        "for filename in os.listdir(image_dir):\n",
        "    if (filename.endswith('.jpg') or filename.endswith('.png')) and filename != '80.png':\n",
        "        # Load image\n",
        "        image_path = os.path.join(image_dir, filename)\n",
        "        print(f\"Processing image: {image_path}\")\n",
        "        image = np.array(Image.open(image_path).convert(\"RGB\"))\n",
        "        image_height, image_width = image.shape[:2]\n",
        "\n",
        "        # Load bounding boxes and labels\n",
        "        label_path = os.path.join(label_dir, filename.replace('.jpg', '.txt').replace('.png', '.txt'))\n",
        "        print(f\"Loading labels from: {label_path}\")\n",
        "        boxes = load_yolo_labels(label_path)\n",
        "        class_labels = [box.class_id for box in boxes]\n",
        "        albumentations_bboxes = [box.to_albumentations_bbox(image_width, image_height) for box in boxes]\n",
        "\n",
        "        # Apply transformation\n",
        "        transform_pipeline_result = vertical_flip_transform(\n",
        "            image=image,\n",
        "            bboxes=albumentations_bboxes,\n",
        "            class_labels=class_labels\n",
        "        )\n",
        "        transformed_image = transform_pipeline_result[\"image\"]\n",
        "        transformed_bboxes = transform_pipeline_result[\"bboxes\"]\n",
        "\n",
        "        # Convert back to YOLO format\n",
        "        transformed_boxes = [BoundingBox.from_albumentations_bbox(bbox, class_id, image_width, image_height)\n",
        "                             for bbox, class_id in zip(transformed_bboxes, class_labels)]\n",
        "\n",
        "        # Save transformed image\n",
        "        transformed_image_filename = f\"vf_{filename}\"\n",
        "        transformed_image_path = os.path.join(output_image_dir, transformed_image_filename)\n",
        "        print(f\"Saving transformed image to: {transformed_image_path}\")\n",
        "        Image.fromarray(transformed_image).save(transformed_image_path)\n",
        "\n",
        "        # Save transformed bounding boxes and labels\n",
        "        transformed_label_filename = f\"vf_{filename.replace('.jpg', '.txt').replace('.png', '.txt')}\"\n",
        "        transformed_label_path = os.path.join(output_label_dir, transformed_label_filename)\n",
        "        print(f\"Saving transformed labels to: {transformed_label_path}\")\n",
        "        save_yolo_labels(transformed_label_path, transformed_boxes)\n",
        "\n",
        "print(\"Processing complete!\")"
      ]
    },
    {
      "cell_type": "markdown",
      "metadata": {
        "id": "1urNcZhLSb8H"
      },
      "source": [
        "### **Resize Transform**"
      ]
    },
    {
      "cell_type": "code",
      "execution_count": null,
      "metadata": {
        "id": "lmPFw_cusXqb"
      },
      "outputs": [],
      "source": [
        "# Resize transformation (change the size as needed)\n",
        "resize_transform = A.Compose([\n",
        "    A.Resize(416, 416, always_apply=True)\n",
        "], bbox_params=A.BboxParams(format='pascal_voc', label_fields=['class_labels']))"
      ]
    },
    {
      "cell_type": "code",
      "execution_count": null,
      "metadata": {
        "collapsed": true,
        "id": "QguAq_RnsnnE"
      },
      "outputs": [],
      "source": [
        "#Process each image and its labels\n",
        "for filename in os.listdir(image_dir):\n",
        "    if (filename.endswith('.jpg') or filename.endswith('.png')) and filename != '80.png':\n",
        "        # Load image\n",
        "        image_path = os.path.join(image_dir, filename)\n",
        "        print(f\"Processing image: {image_path}\")\n",
        "        image = np.array(Image.open(image_path).convert(\"RGB\"))\n",
        "        image_height, image_width = image.shape[:2]\n",
        "\n",
        "        # Load bounding boxes and labels\n",
        "        label_path = os.path.join(label_dir, filename.replace('.jpg', '.txt').replace('.png', '.txt'))\n",
        "        print(f\"Loading labels from: {label_path}\")\n",
        "        boxes = load_yolo_labels(label_path)\n",
        "        class_labels = [box.class_id for box in boxes]\n",
        "        albumentations_bboxes = [box.to_albumentations_bbox(image_width, image_height) for box in boxes]\n",
        "\n",
        "        # Apply transformation\n",
        "        transform_pipeline_result = resize_transform(\n",
        "            image=image,\n",
        "            bboxes=albumentations_bboxes,\n",
        "            class_labels=class_labels\n",
        "        )\n",
        "        transformed_image = transform_pipeline_result[\"image\"]\n",
        "        transformed_bboxes = transform_pipeline_result[\"bboxes\"]\n",
        "\n",
        "        # Convert back to YOLO format\n",
        "        transformed_boxes = [BoundingBox.from_albumentations_bbox(bbox, class_id, transformed_image.shape[1], transformed_image.shape[0])\n",
        "                             for bbox, class_id in zip(transformed_bboxes, class_labels)]\n",
        "\n",
        "        # Save transformed image\n",
        "        transformed_image_filename = f\"resize_{filename}\"\n",
        "        transformed_image_path = os.path.join(output_image_dir, transformed_image_filename)\n",
        "        print(f\"Saving transformed image to: {transformed_image_path}\")\n",
        "        Image.fromarray(transformed_image).save(transformed_image_path)\n",
        "\n",
        "        # Save transformed bounding boxes and labels\n",
        "        transformed_label_filename = f\"resize_{filename.replace('.jpg', '.txt').replace('.png', '.txt')}\"\n",
        "        transformed_label_path = os.path.join(output_label_dir, transformed_label_filename)\n",
        "        print(f\"Saving transformed labels to: {transformed_label_path}\")\n",
        "        save_yolo_labels(transformed_label_path, transformed_boxes)\n",
        "\n",
        "print(\"Processing complete!\")"
      ]
    },
    {
      "cell_type": "markdown",
      "metadata": {
        "id": "GRzUe-4QSd85"
      },
      "source": [
        "## **Training**"
      ]
    },
    {
      "cell_type": "markdown",
      "metadata": {
        "id": "Ysv9H_YaSoDI"
      },
      "source": [
        "**YAML creation**"
      ]
    },
    {
      "cell_type": "code",
      "execution_count": null,
      "metadata": {
        "id": "8BDBDTYmmQR8"
      },
      "outputs": [],
      "source": [
        "data_yaml = \"\"\"\n",
        "train: /content/drive/MyDrive/aug/images/train\n",
        "val: /content/drive/MyDrive/aug/images/val\n",
        "test: /content/drive/MyDrive/aug/images/test\n",
        "\n",
        "nc: 4\n",
        "names: ['stumps', 'grease', 'bat', 'shoe']\n",
        "\"\"\"\n",
        "\n",
        "yaml_path = '/content/drive/MyDrive/aug/runout.yaml'\n",
        "\n",
        "with open(yaml_path, 'w') as f:\n",
        "    f.write(data_yaml)"
      ]
    },
    {
      "cell_type": "markdown",
      "metadata": {
        "id": "YggTsQAgSqkk"
      },
      "source": [
        "**Train**"
      ]
    },
    {
      "cell_type": "markdown",
      "metadata": {
        "id": "uHs-JeEATpPq"
      },
      "source": []
    },
    {
      "cell_type": "code",
      "execution_count": null,
      "metadata": {
        "colab": {
          "base_uri": "https://localhost:8080/"
        },
        "id": "2xrAijh6GHVj",
        "outputId": "d2a9a455-ef6e-4a37-fbc7-fa332867acff"
      },
      "outputs": [
        {
          "name": "stdout",
          "output_type": "stream",
          "text": [
            "Ultralytics YOLOv8.2.22 🚀 Python-3.10.12 torch-2.3.0+cu121 CPU (Intel Xeon 2.20GHz)\n",
            "\u001b[34m\u001b[1mengine/trainer: \u001b[0mtask=detect, mode=train, model=yolov8s.pt, data=/content/drive/MyDrive/aug/runout.yaml, epochs=20, time=None, patience=100, batch=16, imgsz=640, save=True, save_period=-1, cache=False, device=None, workers=8, project=/content/drive/MyDrive/aug/training_result, name=runout6, exist_ok=False, pretrained=True, optimizer=auto, verbose=True, seed=0, deterministic=True, single_cls=False, rect=False, cos_lr=False, close_mosaic=10, resume=False, amp=True, fraction=1.0, profile=False, freeze=None, multi_scale=False, overlap_mask=True, mask_ratio=4, dropout=0.0, val=True, split=val, save_json=False, save_hybrid=False, conf=None, iou=0.7, max_det=300, half=False, dnn=False, plots=True, source=None, vid_stride=1, stream_buffer=False, visualize=False, augment=False, agnostic_nms=False, classes=None, retina_masks=False, embed=None, show=False, save_frames=False, save_txt=False, save_conf=False, save_crop=False, show_labels=True, show_conf=True, show_boxes=True, line_width=None, format=torchscript, keras=False, optimize=False, int8=False, dynamic=False, simplify=False, opset=None, workspace=4, nms=False, lr0=0.005, lrf=0.01, momentum=0.937, weight_decay=0.0005, warmup_epochs=3.0, warmup_momentum=0.8, warmup_bias_lr=0.1, box=7.5, cls=0.5, dfl=1.5, pose=12.0, kobj=1.0, label_smoothing=0.0, nbs=64, hsv_h=0.015, hsv_s=0.7, hsv_v=0.4, degrees=0.0, translate=0.1, scale=0.5, shear=0.0, perspective=0.0, flipud=0.0, fliplr=0.5, bgr=0.0, mosaic=1.0, mixup=0.0, copy_paste=0.0, auto_augment=randaugment, erasing=0.4, crop_fraction=1.0, cfg=None, tracker=botsort.yaml, save_dir=/content/drive/MyDrive/aug/training_result/runout6\n",
            "Overriding model.yaml nc=80 with nc=4\n",
            "\n",
            "                   from  n    params  module                                       arguments                     \n",
            "  0                  -1  1       928  ultralytics.nn.modules.conv.Conv             [3, 32, 3, 2]                 \n",
            "  1                  -1  1     18560  ultralytics.nn.modules.conv.Conv             [32, 64, 3, 2]                \n",
            "  2                  -1  1     29056  ultralytics.nn.modules.block.C2f             [64, 64, 1, True]             \n",
            "  3                  -1  1     73984  ultralytics.nn.modules.conv.Conv             [64, 128, 3, 2]               \n",
            "  4                  -1  2    197632  ultralytics.nn.modules.block.C2f             [128, 128, 2, True]           \n",
            "  5                  -1  1    295424  ultralytics.nn.modules.conv.Conv             [128, 256, 3, 2]              \n",
            "  6                  -1  2    788480  ultralytics.nn.modules.block.C2f             [256, 256, 2, True]           \n",
            "  7                  -1  1   1180672  ultralytics.nn.modules.conv.Conv             [256, 512, 3, 2]              \n",
            "  8                  -1  1   1838080  ultralytics.nn.modules.block.C2f             [512, 512, 1, True]           \n",
            "  9                  -1  1    656896  ultralytics.nn.modules.block.SPPF            [512, 512, 5]                 \n",
            " 10                  -1  1         0  torch.nn.modules.upsampling.Upsample         [None, 2, 'nearest']          \n",
            " 11             [-1, 6]  1         0  ultralytics.nn.modules.conv.Concat           [1]                           \n",
            " 12                  -1  1    591360  ultralytics.nn.modules.block.C2f             [768, 256, 1]                 \n",
            " 13                  -1  1         0  torch.nn.modules.upsampling.Upsample         [None, 2, 'nearest']          \n",
            " 14             [-1, 4]  1         0  ultralytics.nn.modules.conv.Concat           [1]                           \n",
            " 15                  -1  1    148224  ultralytics.nn.modules.block.C2f             [384, 128, 1]                 \n",
            " 16                  -1  1    147712  ultralytics.nn.modules.conv.Conv             [128, 128, 3, 2]              \n",
            " 17            [-1, 12]  1         0  ultralytics.nn.modules.conv.Concat           [1]                           \n",
            " 18                  -1  1    493056  ultralytics.nn.modules.block.C2f             [384, 256, 1]                 \n",
            " 19                  -1  1    590336  ultralytics.nn.modules.conv.Conv             [256, 256, 3, 2]              \n",
            " 20             [-1, 9]  1         0  ultralytics.nn.modules.conv.Concat           [1]                           \n",
            " 21                  -1  1   1969152  ultralytics.nn.modules.block.C2f             [768, 512, 1]                 \n",
            " 22        [15, 18, 21]  1   2117596  ultralytics.nn.modules.head.Detect           [4, [128, 256, 512]]          \n",
            "Model summary: 225 layers, 11137148 parameters, 11137132 gradients, 28.7 GFLOPs\n",
            "\n",
            "Transferred 349/355 items from pretrained weights\n",
            "\u001b[34m\u001b[1mTensorBoard: \u001b[0mStart with 'tensorboard --logdir /content/drive/MyDrive/aug/training_result/runout6', view at http://localhost:6006/\n",
            "Freezing layer 'model.22.dfl.conv.weight'\n",
            "\u001b[34m\u001b[1mtrain: \u001b[0mScanning /content/drive/MyDrive/aug/labels/train.cache... 1144 images, 0 backgrounds, 0 corrupt: 100% 1144/1144 [00:00<?, ?it/s]\n",
            "\u001b[34m\u001b[1malbumentations: \u001b[0mBlur(p=0.01, blur_limit=(3, 7)), MedianBlur(p=0.01, blur_limit=(3, 7)), ToGray(p=0.01), CLAHE(p=0.01, clip_limit=(1, 4.0), tile_grid_size=(8, 8))\n",
            "\u001b[34m\u001b[1mval: \u001b[0mScanning /content/drive/MyDrive/aug/labels/val.cache... 25 images, 0 backgrounds, 0 corrupt: 100% 25/25 [00:00<?, ?it/s]\n",
            "Plotting labels to /content/drive/MyDrive/aug/training_result/runout6/labels.jpg... \n",
            "\u001b[34m\u001b[1moptimizer:\u001b[0m 'optimizer=auto' found, ignoring 'lr0=0.005' and 'momentum=0.937' and determining best 'optimizer', 'lr0' and 'momentum' automatically... \n",
            "\u001b[34m\u001b[1moptimizer:\u001b[0m AdamW(lr=0.00125, momentum=0.9) with parameter groups 57 weight(decay=0.0), 64 weight(decay=0.0005), 63 bias(decay=0.0)\n",
            "\u001b[34m\u001b[1mTensorBoard: \u001b[0mmodel graph visualization added ✅\n",
            "Image sizes 640 train, 640 val\n",
            "Using 0 dataloader workers\n",
            "Logging results to \u001b[1m/content/drive/MyDrive/aug/training_result/runout6\u001b[0m\n",
            "Starting training for 20 epochs...\n",
            "\n",
            "      Epoch    GPU_mem   box_loss   cls_loss   dfl_loss  Instances       Size\n",
            "       1/20         0G      1.724      2.139      1.421         37        640: 100% 72/72 [43:59<00:00, 36.66s/it]\n",
            "                 Class     Images  Instances      Box(P          R      mAP50  mAP50-95): 100% 1/1 [00:27<00:00, 27.64s/it]\n",
            "                   all         25         71      0.732       0.78      0.754      0.385\n",
            "\n",
            "      Epoch    GPU_mem   box_loss   cls_loss   dfl_loss  Instances       Size\n",
            "       2/20         0G      1.594      1.322      1.327         45        640: 100% 72/72 [43:20<00:00, 36.12s/it]\n",
            "                 Class     Images  Instances      Box(P          R      mAP50  mAP50-95): 100% 1/1 [00:18<00:00, 18.37s/it]\n",
            "                   all         25         71      0.635      0.657      0.681      0.333\n",
            "\n",
            "      Epoch    GPU_mem   box_loss   cls_loss   dfl_loss  Instances       Size\n",
            "       3/20         0G      1.594       1.25       1.33         50        640: 100% 72/72 [43:06<00:00, 35.93s/it]\n",
            "                 Class     Images  Instances      Box(P          R      mAP50  mAP50-95): 100% 1/1 [00:18<00:00, 18.12s/it]\n",
            "                   all         25         71      0.796      0.601      0.746      0.301\n",
            "\n",
            "      Epoch    GPU_mem   box_loss   cls_loss   dfl_loss  Instances       Size\n",
            "       4/20         0G      1.561      1.225      1.312         40        640: 100% 72/72 [42:37<00:00, 35.52s/it]\n",
            "                 Class     Images  Instances      Box(P          R      mAP50  mAP50-95): 100% 1/1 [00:17<00:00, 17.64s/it]\n",
            "                   all         25         71      0.795      0.684      0.771      0.383\n",
            "\n",
            "      Epoch    GPU_mem   box_loss   cls_loss   dfl_loss  Instances       Size\n",
            "       5/20         0G      1.517      1.143      1.294         30        640: 100% 72/72 [43:14<00:00, 36.03s/it]\n",
            "                 Class     Images  Instances      Box(P          R      mAP50  mAP50-95): 100% 1/1 [00:17<00:00, 18.00s/it]\n",
            "                   all         25         71      0.732      0.722      0.802      0.411\n",
            "\n",
            "      Epoch    GPU_mem   box_loss   cls_loss   dfl_loss  Instances       Size\n",
            "       6/20         0G       1.47      1.056      1.256         67        640: 100% 72/72 [42:50<00:00, 35.70s/it]\n",
            "                 Class     Images  Instances      Box(P          R      mAP50  mAP50-95): 100% 1/1 [00:19<00:00, 19.15s/it]\n",
            "                   all         25         71      0.742      0.824      0.863      0.443\n",
            "\n",
            "      Epoch    GPU_mem   box_loss   cls_loss   dfl_loss  Instances       Size\n",
            "       7/20         0G      1.432     0.9971      1.233         44        640: 100% 72/72 [42:57<00:00, 35.80s/it]\n",
            "                 Class     Images  Instances      Box(P          R      mAP50  mAP50-95): 100% 1/1 [00:19<00:00, 19.65s/it]\n",
            "                   all         25         71      0.773      0.755      0.781      0.395\n",
            "\n",
            "      Epoch    GPU_mem   box_loss   cls_loss   dfl_loss  Instances       Size\n",
            "       8/20         0G      1.377     0.9394        1.2         55        640: 100% 72/72 [43:12<00:00, 36.01s/it]\n",
            "                 Class     Images  Instances      Box(P          R      mAP50  mAP50-95): 100% 1/1 [00:19<00:00, 19.49s/it]\n",
            "                   all         25         71       0.81      0.859      0.848      0.434\n",
            "\n",
            "      Epoch    GPU_mem   box_loss   cls_loss   dfl_loss  Instances       Size\n",
            "       9/20         0G      1.356     0.8958      1.185         61        640: 100% 72/72 [43:09<00:00, 35.96s/it]\n",
            "                 Class     Images  Instances      Box(P          R      mAP50  mAP50-95): 100% 1/1 [00:18<00:00, 18.28s/it]\n",
            "                   all         25         71      0.846       0.91      0.886      0.487\n",
            "\n",
            "      Epoch    GPU_mem   box_loss   cls_loss   dfl_loss  Instances       Size\n",
            "      10/20         0G      1.321     0.8738      1.179         32        640: 100% 72/72 [43:00<00:00, 35.85s/it]\n",
            "                 Class     Images  Instances      Box(P          R      mAP50  mAP50-95): 100% 1/1 [00:19<00:00, 19.12s/it]\n",
            "                   all         25         71      0.839      0.779       0.87      0.437\n",
            "Closing dataloader mosaic\n",
            "\u001b[34m\u001b[1malbumentations: \u001b[0mBlur(p=0.01, blur_limit=(3, 7)), MedianBlur(p=0.01, blur_limit=(3, 7)), ToGray(p=0.01), CLAHE(p=0.01, clip_limit=(1, 4.0), tile_grid_size=(8, 8))\n",
            "\n",
            "      Epoch    GPU_mem   box_loss   cls_loss   dfl_loss  Instances       Size\n",
            "      11/20         0G      1.284      0.812      1.184         27        640: 100% 72/72 [42:49<00:00, 35.69s/it]\n",
            "                 Class     Images  Instances      Box(P          R      mAP50  mAP50-95): 100% 1/1 [00:17<00:00, 17.69s/it]\n",
            "                   all         25         71      0.856      0.888      0.934      0.504\n",
            "\n",
            "      Epoch    GPU_mem   box_loss   cls_loss   dfl_loss  Instances       Size\n",
            "      12/20         0G      1.253     0.7495      1.165         29        640: 100% 72/72 [42:55<00:00, 35.78s/it]\n",
            "                 Class     Images  Instances      Box(P          R      mAP50  mAP50-95): 100% 1/1 [00:17<00:00, 17.80s/it]\n",
            "                   all         25         71      0.869      0.919      0.961      0.498\n",
            "\n",
            "      Epoch    GPU_mem   box_loss   cls_loss   dfl_loss  Instances       Size\n",
            "      13/20         0G      1.197     0.7086       1.14         27        640: 100% 72/72 [44:01<00:00, 36.69s/it]\n",
            "                 Class     Images  Instances      Box(P          R      mAP50  mAP50-95): 100% 1/1 [00:17<00:00, 17.89s/it]\n",
            "                   all         25         71      0.834      0.787      0.877      0.473\n",
            "\n",
            "      Epoch    GPU_mem   box_loss   cls_loss   dfl_loss  Instances       Size\n",
            "      14/20         0G      1.169     0.6788      1.115         32        640: 100% 72/72 [44:34<00:00, 37.15s/it]\n",
            "                 Class     Images  Instances      Box(P          R      mAP50  mAP50-95): 100% 1/1 [00:19<00:00, 19.35s/it]\n",
            "                   all         25         71       0.87      0.886      0.901      0.478\n",
            "\n",
            "      Epoch    GPU_mem   box_loss   cls_loss   dfl_loss  Instances       Size\n",
            "      15/20         0G      1.123     0.6433       1.09         29        640: 100% 72/72 [45:44<00:00, 38.12s/it]\n",
            "                 Class     Images  Instances      Box(P          R      mAP50  mAP50-95): 100% 1/1 [00:18<00:00, 18.35s/it]\n",
            "                   all         25         71      0.912       0.87      0.905      0.488\n",
            "\n",
            "      Epoch    GPU_mem   box_loss   cls_loss   dfl_loss  Instances       Size\n",
            "      16/20         0G      1.069     0.6122      1.069         24        640: 100% 72/72 [44:11<00:00, 36.82s/it]\n",
            "                 Class     Images  Instances      Box(P          R      mAP50  mAP50-95): 100% 1/1 [00:18<00:00, 18.81s/it]\n",
            "                   all         25         71      0.953      0.867      0.925      0.485\n",
            "\n",
            "      Epoch    GPU_mem   box_loss   cls_loss   dfl_loss  Instances       Size\n",
            "      17/20         0G      1.033     0.5716      1.027         62        640:   7% 5/72 [02:56<39:12, 35.11s/it]"
          ]
        }
      ],
      "source": [
        "!yolo task=detect mode=train model=yolov8s.pt data=/content/drive/MyDrive/aug/runout.yaml epochs=20 imgsz=640 batch=16 lr0=0.005\n",
        "project=/content/drive/MyDrive/aug/training_result name=runout"
      ]
    },
    {
      "cell_type": "markdown",
      "metadata": {
        "id": "s1MnLosjSsKR"
      },
      "source": [
        "**Trial Test**"
      ]
    },
    {
      "cell_type": "code",
      "execution_count": null,
      "metadata": {
        "colab": {
          "base_uri": "https://localhost:8080/"
        },
        "id": "lBOgChKTR7yV",
        "outputId": "3d671c0c-fac4-4858-927f-975c660b77fa"
      },
      "outputs": [
        {
          "name": "stdout",
          "output_type": "stream",
          "text": [
            "Ultralytics YOLOv8.2.22 🚀 Python-3.10.12 torch-2.3.0+cu121 CPU (Intel Xeon 2.20GHz)\n",
            "\u001b[34m\u001b[1mengine/trainer: \u001b[0mtask=detect, mode=train, model=/content/drive/MyDrive/aug/training_result/runout6/weights/best.pt, data=/content/drive/MyDrive/aug/runout.yaml, epochs=20, time=None, patience=100, batch=16, imgsz=640, save=True, save_period=-1, cache=False, device=None, workers=0, project=/content/drive/MyDrive/aug/training_result, name=runout6, exist_ok=False, pretrained=True, optimizer=auto, verbose=True, seed=0, deterministic=True, single_cls=False, rect=False, cos_lr=False, close_mosaic=10, resume=/content/drive/MyDrive/aug/training_result/runout6/weights/best.pt, amp=True, fraction=1.0, profile=False, freeze=None, multi_scale=False, overlap_mask=True, mask_ratio=4, dropout=0.0, val=True, split=val, save_json=False, save_hybrid=False, conf=None, iou=0.7, max_det=300, half=False, dnn=False, plots=True, source=None, vid_stride=1, stream_buffer=False, visualize=False, augment=False, agnostic_nms=False, classes=None, retina_masks=False, embed=None, show=False, save_frames=False, save_txt=False, save_conf=False, save_crop=False, show_labels=True, show_conf=True, show_boxes=True, line_width=None, format=torchscript, keras=False, optimize=False, int8=False, dynamic=False, simplify=False, opset=None, workspace=4, nms=False, lr0=0.005, lrf=0.01, momentum=0.937, weight_decay=0.0005, warmup_epochs=3.0, warmup_momentum=0.8, warmup_bias_lr=0.0, box=7.5, cls=0.5, dfl=1.5, pose=12.0, kobj=1.0, label_smoothing=0.0, nbs=64, hsv_h=0.015, hsv_s=0.7, hsv_v=0.4, degrees=0.0, translate=0.1, scale=0.5, shear=0.0, perspective=0.0, flipud=0.0, fliplr=0.5, bgr=0.0, mosaic=0.0, mixup=0.0, copy_paste=0.0, auto_augment=randaugment, erasing=0.4, crop_fraction=1.0, cfg=None, tracker=botsort.yaml, save_dir=/content/drive/MyDrive/aug/training_result/runout6\n",
            "\u001b[34m\u001b[1mTensorBoard: \u001b[0mStart with 'tensorboard --logdir /content/drive/MyDrive/aug/training_result/runout6', view at http://localhost:6006/\n",
            "\n",
            "                   from  n    params  module                                       arguments                     \n",
            "  0                  -1  1       928  ultralytics.nn.modules.conv.Conv             [3, 32, 3, 2]                 \n",
            "  1                  -1  1     18560  ultralytics.nn.modules.conv.Conv             [32, 64, 3, 2]                \n",
            "  2                  -1  1     29056  ultralytics.nn.modules.block.C2f             [64, 64, 1, True]             \n",
            "  3                  -1  1     73984  ultralytics.nn.modules.conv.Conv             [64, 128, 3, 2]               \n",
            "  4                  -1  2    197632  ultralytics.nn.modules.block.C2f             [128, 128, 2, True]           \n",
            "  5                  -1  1    295424  ultralytics.nn.modules.conv.Conv             [128, 256, 3, 2]              \n",
            "  6                  -1  2    788480  ultralytics.nn.modules.block.C2f             [256, 256, 2, True]           \n",
            "  7                  -1  1   1180672  ultralytics.nn.modules.conv.Conv             [256, 512, 3, 2]              \n",
            "  8                  -1  1   1838080  ultralytics.nn.modules.block.C2f             [512, 512, 1, True]           \n",
            "  9                  -1  1    656896  ultralytics.nn.modules.block.SPPF            [512, 512, 5]                 \n",
            " 10                  -1  1         0  torch.nn.modules.upsampling.Upsample         [None, 2, 'nearest']          \n",
            " 11             [-1, 6]  1         0  ultralytics.nn.modules.conv.Concat           [1]                           \n",
            " 12                  -1  1    591360  ultralytics.nn.modules.block.C2f             [768, 256, 1]                 \n",
            " 13                  -1  1         0  torch.nn.modules.upsampling.Upsample         [None, 2, 'nearest']          \n",
            " 14             [-1, 4]  1         0  ultralytics.nn.modules.conv.Concat           [1]                           \n",
            " 15                  -1  1    148224  ultralytics.nn.modules.block.C2f             [384, 128, 1]                 \n",
            " 16                  -1  1    147712  ultralytics.nn.modules.conv.Conv             [128, 128, 3, 2]              \n",
            " 17            [-1, 12]  1         0  ultralytics.nn.modules.conv.Concat           [1]                           \n",
            " 18                  -1  1    493056  ultralytics.nn.modules.block.C2f             [384, 256, 1]                 \n",
            " 19                  -1  1    590336  ultralytics.nn.modules.conv.Conv             [256, 256, 3, 2]              \n",
            " 20             [-1, 9]  1         0  ultralytics.nn.modules.conv.Concat           [1]                           \n",
            " 21                  -1  1   1969152  ultralytics.nn.modules.block.C2f             [768, 512, 1]                 \n",
            " 22        [15, 18, 21]  1   2117596  ultralytics.nn.modules.head.Detect           [4, [128, 256, 512]]          \n",
            "Model summary: 225 layers, 11137148 parameters, 11137132 gradients, 28.7 GFLOPs\n",
            "\n",
            "Transferred 355/355 items from pretrained weights\n",
            "Freezing layer 'model.22.dfl.conv.weight'\n",
            "\u001b[34m\u001b[1mtrain: \u001b[0mScanning /content/drive/MyDrive/aug/labels/train.cache... 1144 images, 0 backgrounds, 0 corrupt: 100% 1144/1144 [00:00<?, ?it/s]\n",
            "\u001b[34m\u001b[1malbumentations: \u001b[0mBlur(p=0.01, blur_limit=(3, 7)), MedianBlur(p=0.01, blur_limit=(3, 7)), ToGray(p=0.01), CLAHE(p=0.01, clip_limit=(1, 4.0), tile_grid_size=(8, 8))\n",
            "\u001b[34m\u001b[1mval: \u001b[0mScanning /content/drive/MyDrive/aug/labels/val.cache... 25 images, 0 backgrounds, 0 corrupt: 100% 25/25 [00:00<?, ?it/s]\n",
            "Plotting labels to /content/drive/MyDrive/aug/training_result/runout6/labels.jpg... \n",
            "\u001b[34m\u001b[1moptimizer:\u001b[0m 'optimizer=auto' found, ignoring 'lr0=0.005' and 'momentum=0.937' and determining best 'optimizer', 'lr0' and 'momentum' automatically... \n",
            "\u001b[34m\u001b[1moptimizer:\u001b[0m AdamW(lr=0.00125, momentum=0.9) with parameter groups 57 weight(decay=0.0), 64 weight(decay=0.0005), 63 bias(decay=0.0)\n",
            "Resuming training /content/drive/MyDrive/aug/training_result/runout6/weights/best.pt from epoch 12 to 20 total epochs\n",
            "Closing dataloader mosaic\n",
            "\u001b[34m\u001b[1malbumentations: \u001b[0mBlur(p=0.01, blur_limit=(3, 7)), MedianBlur(p=0.01, blur_limit=(3, 7)), ToGray(p=0.01), CLAHE(p=0.01, clip_limit=(1, 4.0), tile_grid_size=(8, 8))\n",
            "\u001b[34m\u001b[1mTensorBoard: \u001b[0mmodel graph visualization added ✅\n",
            "Image sizes 640 train, 640 val\n",
            "Using 0 dataloader workers\n",
            "Logging results to \u001b[1m/content/drive/MyDrive/aug/training_result/runout6\u001b[0m\n",
            "Starting training for 20 epochs...\n",
            "\n",
            "      Epoch    GPU_mem   box_loss   cls_loss   dfl_loss  Instances       Size\n",
            "      12/20         0G      1.258     0.7611      1.173         27        640: 100% 72/72 [49:06<00:00, 40.92s/it]\n",
            "                 Class     Images  Instances      Box(P          R      mAP50  mAP50-95): 100% 1/1 [00:26<00:00, 26.74s/it]\n",
            "                   all         25         71      0.892      0.832      0.934      0.457\n",
            "\n",
            "      Epoch    GPU_mem   box_loss   cls_loss   dfl_loss  Instances       Size\n",
            "      13/20         0G      1.206     0.7038      1.147         31        640: 100% 72/72 [45:09<00:00, 37.63s/it]\n",
            "                 Class     Images  Instances      Box(P          R      mAP50  mAP50-95): 100% 1/1 [00:19<00:00, 19.51s/it]\n",
            "                   all         25         71      0.878      0.881      0.926      0.496\n",
            "\n",
            "      Epoch    GPU_mem   box_loss   cls_loss   dfl_loss  Instances       Size\n",
            "      14/20         0G      1.172     0.6845      1.132         28        640: 100% 72/72 [45:17<00:00, 37.74s/it]\n",
            "                 Class     Images  Instances      Box(P          R      mAP50  mAP50-95): 100% 1/1 [00:19<00:00, 19.09s/it]\n",
            "                   all         25         71      0.883      0.841      0.912      0.523\n",
            "\n",
            "      Epoch    GPU_mem   box_loss   cls_loss   dfl_loss  Instances       Size\n",
            "      15/20         0G      1.125     0.6632      1.101         26        640: 100% 72/72 [45:18<00:00, 37.75s/it]\n",
            "                 Class     Images  Instances      Box(P          R      mAP50  mAP50-95): 100% 1/1 [00:18<00:00, 18.98s/it]\n",
            "                   all         25         71      0.971      0.914      0.965      0.478\n",
            "\n",
            "      Epoch    GPU_mem   box_loss   cls_loss   dfl_loss  Instances       Size\n",
            "      16/20         0G      1.078     0.6155       1.09         27        640: 100% 72/72 [45:04<00:00, 37.57s/it]\n",
            "                 Class     Images  Instances      Box(P          R      mAP50  mAP50-95): 100% 1/1 [00:22<00:00, 22.49s/it]\n",
            "                   all         25         71      0.888      0.856      0.944        0.5\n",
            "\n",
            "      Epoch    GPU_mem   box_loss   cls_loss   dfl_loss  Instances       Size\n",
            "      17/20         0G      1.042     0.5851       1.07         32        640: 100% 72/72 [45:01<00:00, 37.52s/it]\n",
            "                 Class     Images  Instances      Box(P          R      mAP50  mAP50-95): 100% 1/1 [00:19<00:00, 19.07s/it]\n",
            "                   all         25         71      0.871      0.916      0.934      0.563\n",
            "\n",
            "      Epoch    GPU_mem   box_loss   cls_loss   dfl_loss  Instances       Size\n",
            "      18/20         0G      1.009     0.5546      1.049         24        640: 100% 72/72 [45:32<00:00, 37.95s/it]\n",
            "                 Class     Images  Instances      Box(P          R      mAP50  mAP50-95): 100% 1/1 [00:18<00:00, 18.47s/it]\n",
            "                   all         25         71      0.964      0.898       0.96      0.528\n",
            "\n",
            "      Epoch    GPU_mem   box_loss   cls_loss   dfl_loss  Instances       Size\n",
            "      19/20         0G     0.9555     0.5302      1.022         33        640: 100% 72/72 [44:52<00:00, 37.39s/it]\n",
            "                 Class     Images  Instances      Box(P          R      mAP50  mAP50-95): 100% 1/1 [00:18<00:00, 18.96s/it]\n",
            "                   all         25         71       0.95      0.897       0.97      0.544\n",
            "\n",
            "      Epoch    GPU_mem   box_loss   cls_loss   dfl_loss  Instances       Size\n",
            "      20/20         0G     0.9456     0.5214      1.015         31        640: 100% 72/72 [44:51<00:00, 37.38s/it]\n",
            "                 Class     Images  Instances      Box(P          R      mAP50  mAP50-95): 100% 1/1 [00:18<00:00, 18.64s/it]\n",
            "                   all         25         71      0.962      0.938      0.976      0.549\n",
            "\n",
            "9 epochs completed in 6.896 hours.\n",
            "Optimizer stripped from /content/drive/MyDrive/aug/training_result/runout6/weights/last.pt, 22.5MB\n",
            "Optimizer stripped from /content/drive/MyDrive/aug/training_result/runout6/weights/best.pt, 22.5MB\n",
            "\n",
            "Validating /content/drive/MyDrive/aug/training_result/runout6/weights/best.pt...\n",
            "Ultralytics YOLOv8.2.22 🚀 Python-3.10.12 torch-2.3.0+cu121 CPU (Intel Xeon 2.20GHz)\n",
            "Model summary (fused): 168 layers, 11127132 parameters, 0 gradients, 28.4 GFLOPs\n",
            "                 Class     Images  Instances      Box(P          R      mAP50  mAP50-95): 100% 1/1 [00:18<00:00, 18.80s/it]\n",
            "                   all         25         71      0.871      0.917      0.934      0.563\n",
            "                stumps         25         25      0.853       0.92      0.898      0.518\n",
            "                grease         25         25      0.813       0.96      0.925      0.497\n",
            "                   bat         25         21      0.948      0.871      0.981      0.674\n",
            "Speed: 2.6ms preprocess, 722.9ms inference, 0.0ms loss, 0.8ms postprocess per image\n",
            "Results saved to \u001b[1m/content/drive/MyDrive/aug/training_result/runout6\u001b[0m\n",
            "💡 Learn more at https://docs.ultralytics.com/modes/train\n"
          ]
        }
      ],
      "source": [
        "!yolo task=detect mode=train model=/content/drive/MyDrive/aug/training_result/runout6/weights/best.pt data=/content/drive/MyDrive/aug/runout.yaml epochs=20 resume=True project=/content/drive/MyDrive/aug/training_result name=runout"
      ]
    },
    {
      "cell_type": "code",
      "execution_count": null,
      "metadata": {
        "colab": {
          "base_uri": "https://localhost:8080/"
        },
        "id": "q9Sx3Gr2FD91",
        "outputId": "2ac402da-1da3-4e41-8e09-a6f7aba809c9"
      },
      "outputs": [
        {
          "output_type": "stream",
          "name": "stdout",
          "text": [
            "Ultralytics YOLOv8.2.75 🚀 Python-3.10.12 torch-2.3.1+cu121 CPU (Intel Xeon 2.20GHz)\n",
            "Model summary (fused): 168 layers, 11,127,132 parameters, 0 gradients, 28.4 GFLOPs\n",
            "\n",
            "image 1/1 /content/drive/MyDrive/aug/test/images.jpg: 480x640 1 stumps, 1 grease, 1 bat, 2 shoes, 534.7ms\n",
            "Speed: 16.5ms preprocess, 534.7ms inference, 33.0ms postprocess per image at shape (1, 3, 480, 640)\n",
            "Results saved to \u001b[1mruns/detect/predict\u001b[0m\n",
            "💡 Learn more at https://docs.ultralytics.com/modes/predict\n"
          ]
        }
      ],
      "source": [
        "!yolo task=detect mode=predict model=/content/drive/MyDrive/aug/training_result/runout6/weights/best.pt conf=0.55 source=/content/drive/MyDrive/aug/test/images.jpg"
      ]
    },
    {
      "cell_type": "markdown",
      "metadata": {
        "id": "jYto2MXfO9Rj"
      },
      "source": []
    },
    {
      "cell_type": "markdown",
      "metadata": {
        "id": "lj8jRopDSvBy"
      },
      "source": [
        "**Metrics**"
      ]
    },
    {
      "cell_type": "code",
      "execution_count": null,
      "metadata": {
        "colab": {
          "base_uri": "https://localhost:8080/"
        },
        "collapsed": true,
        "id": "bf2IZFvZPJ7G",
        "outputId": "8a4fbbd5-4da0-45db-f4f4-99e58840eac1"
      },
      "outputs": [
        {
          "name": "stdout",
          "output_type": "stream",
          "text": [
            "Ultralytics YOLOv8.2.26 🚀 Python-3.10.12 torch-2.3.0+cu121 CPU (Intel Xeon 2.20GHz)\n",
            "Model summary (fused): 168 layers, 11127132 parameters, 0 gradients, 28.4 GFLOPs\n",
            "Downloading https://ultralytics.com/assets/Arial.ttf to '/root/.config/Ultralytics/Arial.ttf'...\n",
            "100% 755k/755k [00:00<00:00, 27.7MB/s]\n",
            "\u001b[34m\u001b[1mval: \u001b[0mScanning /content/drive/MyDrive/aug/labels/val.cache... 25 images, 0 backgrounds, 0 corrupt: 100% 25/25 [00:00<?, ?it/s]\n",
            "                 Class     Images  Instances      Box(P          R      mAP50  mAP50-95):   0% 0/2 [00:16<?, ?it/s]\n",
            "Traceback (most recent call last):\n",
            "  File \"/usr/local/bin/yolo\", line 8, in <module>\n",
            "    sys.exit(entrypoint())\n",
            "  File \"/usr/local/lib/python3.10/dist-packages/ultralytics/cfg/__init__.py\", line 583, in entrypoint\n",
            "    getattr(model, mode)(**overrides)  # default args from model\n",
            "  File \"/usr/local/lib/python3.10/dist-packages/ultralytics/engine/model.py\", line 528, in val\n",
            "    validator(model=self.model)\n",
            "  File \"/usr/local/lib/python3.10/dist-packages/torch/utils/_contextlib.py\", line 115, in decorate_context\n",
            "    return func(*args, **kwargs)\n",
            "  File \"/usr/local/lib/python3.10/dist-packages/ultralytics/engine/validator.py\", line 178, in __call__\n",
            "    preds = model(batch[\"img\"], augment=augment)\n",
            "  File \"/usr/local/lib/python3.10/dist-packages/torch/nn/modules/module.py\", line 1532, in _wrapped_call_impl\n",
            "    return self._call_impl(*args, **kwargs)\n",
            "  File \"/usr/local/lib/python3.10/dist-packages/torch/nn/modules/module.py\", line 1541, in _call_impl\n",
            "    return forward_call(*args, **kwargs)\n",
            "  File \"/usr/local/lib/python3.10/dist-packages/ultralytics/nn/autobackend.py\", line 453, in forward\n",
            "    y = self.model(im, augment=augment, visualize=visualize, embed=embed)\n",
            "  File \"/usr/local/lib/python3.10/dist-packages/torch/nn/modules/module.py\", line 1532, in _wrapped_call_impl\n",
            "    return self._call_impl(*args, **kwargs)\n",
            "  File \"/usr/local/lib/python3.10/dist-packages/torch/nn/modules/module.py\", line 1541, in _call_impl\n",
            "    return forward_call(*args, **kwargs)\n",
            "  File \"/usr/local/lib/python3.10/dist-packages/ultralytics/nn/tasks.py\", line 89, in forward\n",
            "    return self.predict(x, *args, **kwargs)\n",
            "  File \"/usr/local/lib/python3.10/dist-packages/ultralytics/nn/tasks.py\", line 107, in predict\n",
            "    return self._predict_once(x, profile, visualize, embed)\n",
            "  File \"/usr/local/lib/python3.10/dist-packages/ultralytics/nn/tasks.py\", line 128, in _predict_once\n",
            "    x = m(x)  # run\n",
            "  File \"/usr/local/lib/python3.10/dist-packages/torch/nn/modules/module.py\", line 1532, in _wrapped_call_impl\n",
            "    return self._call_impl(*args, **kwargs)\n",
            "  File \"/usr/local/lib/python3.10/dist-packages/torch/nn/modules/module.py\", line 1541, in _call_impl\n",
            "    return forward_call(*args, **kwargs)\n",
            "  File \"/usr/local/lib/python3.10/dist-packages/ultralytics/nn/modules/block.py\", line 231, in forward\n",
            "    return self.cv2(torch.cat(y, 1))\n",
            "  File \"/usr/local/lib/python3.10/dist-packages/torch/nn/modules/module.py\", line 1532, in _wrapped_call_impl\n",
            "    return self._call_impl(*args, **kwargs)\n",
            "  File \"/usr/local/lib/python3.10/dist-packages/torch/nn/modules/module.py\", line 1541, in _call_impl\n",
            "    return forward_call(*args, **kwargs)\n",
            "  File \"/usr/local/lib/python3.10/dist-packages/ultralytics/nn/modules/conv.py\", line 54, in forward_fuse\n",
            "    return self.act(self.conv(x))\n",
            "  File \"/usr/local/lib/python3.10/dist-packages/torch/nn/modules/module.py\", line 1532, in _wrapped_call_impl\n",
            "    return self._call_impl(*args, **kwargs)\n",
            "  File \"/usr/local/lib/python3.10/dist-packages/torch/nn/modules/module.py\", line 1541, in _call_impl\n",
            "    return forward_call(*args, **kwargs)\n",
            "  File \"/usr/local/lib/python3.10/dist-packages/torch/nn/modules/conv.py\", line 460, in forward\n",
            "    return self._conv_forward(input, self.weight, self.bias)\n",
            "  File \"/usr/local/lib/python3.10/dist-packages/torch/nn/modules/conv.py\", line 456, in _conv_forward\n",
            "    return F.conv2d(input, weight, bias, self.stride,\n",
            "KeyboardInterrupt\n",
            "^C\n"
          ]
        }
      ],
      "source": [
        "!yolo task=detect mode=val model=/content/drive/MyDrive/aug/training_result/runout6/weights/best.pt data=/content/drive/MyDrive/aug/runout.yaml\n"
      ]
    },
    {
      "cell_type": "code",
      "execution_count": null,
      "metadata": {
        "colab": {
          "base_uri": "https://localhost:8080/"
        },
        "id": "r2w2UJBgMwK3",
        "outputId": "a5f8e342-33e1-4109-99b0-1acce7659aca"
      },
      "outputs": [
        {
          "output_type": "stream",
          "name": "stdout",
          "text": [
            "\n",
            "image 1/1 /content/drive/MyDrive/aug/test/images.jpg: 480x640 1 stumps, 1 grease, 1 bat, 3 shoes, 477.8ms\n",
            "Speed: 4.6ms preprocess, 477.8ms inference, 1.2ms postprocess per image at shape (1, 3, 480, 640)\n",
            "Results saved to \u001b[1m/content/drive/MyDrive/aug/Predictions/results17\u001b[0m\n",
            "1 label saved to /content/drive/MyDrive/aug/Predictions/results17/labels\n",
            "ultralytics.engine.results.Results object with attributes:\n",
            "\n",
            "boxes: ultralytics.engine.results.Boxes object\n",
            "keypoints: None\n",
            "masks: None\n",
            "names: {0: 'stumps', 1: 'grease', 2: 'bat', 3: 'shoe'}\n",
            "obb: None\n",
            "orig_img: array([[[ 76, 130, 117],\n",
            "        [ 76, 130, 117],\n",
            "        [ 76, 130, 117],\n",
            "        ...,\n",
            "        [ 77, 129, 119],\n",
            "        [ 77, 129, 119],\n",
            "        [ 77, 129, 119]],\n",
            "\n",
            "       [[ 79, 133, 120],\n",
            "        [ 79, 133, 120],\n",
            "        [ 79, 133, 120],\n",
            "        ...,\n",
            "        [ 86, 138, 128],\n",
            "        [ 86, 138, 128],\n",
            "        [ 86, 138, 128]],\n",
            "\n",
            "       [[ 83, 137, 124],\n",
            "        [ 83, 137, 124],\n",
            "        [ 83, 137, 124],\n",
            "        ...,\n",
            "        [ 87, 140, 130],\n",
            "        [ 87, 140, 130],\n",
            "        [ 87, 140, 130]],\n",
            "\n",
            "       ...,\n",
            "\n",
            "       [[ 93, 141, 129],\n",
            "        [ 94, 142, 130],\n",
            "        [ 94, 142, 130],\n",
            "        ...,\n",
            "        [111,  83,  76],\n",
            "        [114,  85,  76],\n",
            "        [119,  90,  83]],\n",
            "\n",
            "       [[ 96, 142, 130],\n",
            "        [ 92, 138, 126],\n",
            "        [ 75, 121, 109],\n",
            "        ...,\n",
            "        [122, 103,  95],\n",
            "        [100,  81,  73],\n",
            "        [111,  92,  85]],\n",
            "\n",
            "       [[ 96, 142, 130],\n",
            "        [ 92, 138, 126],\n",
            "        [ 75, 121, 109],\n",
            "        ...,\n",
            "        [121, 103,  96],\n",
            "        [ 97,  81,  74],\n",
            "        [108,  92,  85]]], dtype=uint8)\n",
            "orig_shape: (194, 259)\n",
            "path: '/content/drive/MyDrive/aug/test/images.jpg'\n",
            "probs: None\n",
            "save_dir: '/content/drive/MyDrive/aug/Predictions/results17'\n",
            "speed: {'preprocess': 4.616022109985352, 'inference': 477.82421112060547, 'postprocess': 1.2292861938476562}\n"
          ]
        }
      ],
      "source": [
        "from ultralytics import YOLO\n",
        "\n",
        "# Load the model\n",
        "model = YOLO('/content/drive/MyDrive/aug/training_result/runout6/weights/best.pt')\n",
        "\n",
        "# Run prediction\n",
        "results = model.predict(source='/content/drive/MyDrive/aug/test/images.jpg', conf=0.50, save=True, save_txt=True, project='/content/drive/MyDrive/aug/Predictions', name='results')\n",
        "\n",
        "# Print results (optional)\n",
        "for result in results:\n",
        "    print(result)\n"
      ]
    },
    {
      "cell_type": "code",
      "execution_count": null,
      "metadata": {
        "colab": {
          "base_uri": "https://localhost:8080/",
          "height": 106
        },
        "id": "4b1UL2HEhSw4",
        "outputId": "7d203e1f-b911-4c0b-86a4-6b6c23c2061d"
      },
      "outputs": [
        {
          "ename": "SyntaxError",
          "evalue": "invalid syntax (<ipython-input-11-255ee985650c>, line 3)",
          "output_type": "error",
          "traceback": [
            "\u001b[0;36m  File \u001b[0;32m\"<ipython-input-11-255ee985650c>\"\u001b[0;36m, line \u001b[0;32m3\u001b[0m\n\u001b[0;31m    source=/content/drive/MyDrive/aug/test/test.png\u001b[0m\n\u001b[0m           ^\u001b[0m\n\u001b[0;31mSyntaxError\u001b[0m\u001b[0;31m:\u001b[0m invalid syntax\n"
          ]
        }
      ],
      "source": [
        "#Predict and store the coordinates\n",
        "!yolo task=detect mode=predict model=/content/drive/MyDrive/aug/training_result/runout6/weights/best.pt conf=0.50\n",
        "source=/content/drive/MyDrive/aug/test/test.png\n",
        "save_txt=True project=/content/drive/MyDrive/aug/Predictions name=results"
      ]
    },
    {
      "cell_type": "code",
      "execution_count": null,
      "metadata": {
        "id": "Im3iTVpKlZmA"
      },
      "outputs": [],
      "source": [
        "def load_one_yolo_labels(label_path):\n",
        "    boxes = []\n",
        "    with open(label_path, 'r') as f:\n",
        "        for line in f:\n",
        "            class_id, center_x, center_y, width, height = map(float, line.strip().split())\n",
        "            boxes.append((int(class_id), center_x, center_y, width, height))  # Convert class_id to int\n",
        "    return boxes"
      ]
    },
    {
      "cell_type": "code",
      "execution_count": null,
      "metadata": {
        "id": "Oi9qEOdkl0V7"
      },
      "outputs": [],
      "source": [
        "# Function to parse YOLO label text file and return the predicted labels in a list\n",
        "def parse_yolo_txt(image_path, label_path):\n",
        "    objects = []\n",
        "\n",
        "    # Load image\n",
        "    image = cv2.imread(image_path)\n",
        "    if image is None:\n",
        "        print(f\"Error: Unable to load image from {image_path}\")\n",
        "        return objects\n",
        "\n",
        "    # Load labels\n",
        "    boxes = load_one_yolo_labels(label_path)\n",
        "    print(boxes)\n",
        "    # Draw bounding boxes on the image and store the predicted labels in a list\n",
        "    for box in boxes:\n",
        "        class_id, center_x, center_y, width, height = box\n",
        "        xmin = int((center_x - width / 2) * image.shape[1])\n",
        "        ymin = int((center_y - height / 2) * image.shape[0])\n",
        "        xmax = int((center_x + width / 2) * image.shape[1])\n",
        "        ymax = int((center_y + height / 2) * image.shape[0])\n",
        "\n",
        "        objects.append({\n",
        "            'class_id': class_id,\n",
        "            'xmin': xmin,\n",
        "            'ymin': ymin,\n",
        "            'xmax': xmax,\n",
        "            'ymax': ymax\n",
        "        })\n",
        "\n",
        "        # Determine if the image is flipped\n",
        "    flipped = None\n",
        "    class_0 = next((obj for obj in objects if obj['class_id'] == 0), None)\n",
        "    class_1 = next((obj for obj in objects if obj['class_id'] == 1), None)\n",
        "\n",
        "    if class_0 and class_1:\n",
        "        if class_0['xmin'] < class_1['xmin'] :\n",
        "            flipped = False\n",
        "        elif class_0['xmin'] > class_1['xmin'] :\n",
        "            flipped = True\n",
        "\n",
        "\n",
        "\n",
        "\n",
        "\n",
        "    return objects,flipped"
      ]
    },
    {
      "cell_type": "code",
      "execution_count": null,
      "metadata": {
        "id": "sciujPGfmdaR"
      },
      "outputs": [],
      "source": [
        "def findGreaseCenter(objects):\n",
        "\n",
        "  for obj in objects:\n",
        "    if obj['class_id'] == 1:  # Check for class ID 1 (crease)\n",
        "      # Calculate center x of the bounding box\n",
        "      center_x = (obj['xmin'] + obj['xmax']) / 2\n",
        "      return center_x  # Return the first crease center_x\n",
        "\n",
        "  return None  # No crease objects found"
      ]
    },
    {
      "cell_type": "code",
      "execution_count": null,
      "metadata": {
        "id": "bllro1RVmy9e"
      },
      "outputs": [],
      "source": [
        "# Checking the image side\n",
        "# Batsman left stumps on right or batsman right stumps on left or if image is in vertical format\n",
        "def locateStumpPosition(objects, crease_center_x):\n",
        "\n",
        "    stumps_relative_to_crease = []\n",
        "    for obj in objects:\n",
        "        if obj['class_id'] == 0:  # Check if it's a stump (class ID 0)\n",
        "            stump_center_x = (obj['xmin'] + obj['xmax']) // 2\n",
        "            position = 0 if stump_center_x > crease_center_x else 1\n",
        "            stumps_relative_to_crease.append({\n",
        "                'class_id': obj['class_id'],\n",
        "                'xmin': obj['xmin'],\n",
        "                'ymin': obj['ymin'],\n",
        "                'xmax': obj['xmax'],\n",
        "                'ymax': obj['ymax'],\n",
        "                'position': position\n",
        "            })\n",
        "\n",
        "    return stumps_relative_to_crease"
      ]
    },
    {
      "cell_type": "code",
      "execution_count": null,
      "metadata": {
        "id": "7t83quABm5tY"
      },
      "outputs": [],
      "source": []
    },
    {
      "cell_type": "code",
      "execution_count": null,
      "metadata": {
        "id": "rzMr3s23peT8"
      },
      "outputs": [],
      "source": [
        "def createLine(obj, stump_position):\n",
        "\n",
        "  if(stump_position['position']):\n",
        "      x1 = obj['xmin']\n",
        "      y1 = obj['ymin']\n",
        "      x2 = obj['xmax']\n",
        "      y2 = obj['ymax']\n",
        "\n",
        "      # Check for division by zero (vertical line)\n",
        "      if x1 == x2:\n",
        "        return None, None  # Handle vertical line case\n",
        "\n",
        "      slope = (y1 - y2) / (x2 - x1)  # Calculate slope\n",
        "      y_intercept = y2 - slope * x1  # Calculate y-intercept\n",
        "\n",
        "      return slope, y_intercept\n",
        "  else:\n",
        "      x1 = obj['xmin']\n",
        "      y1 = obj['ymin']\n",
        "      x2 = obj['xmax']\n",
        "      y2 = obj['ymax']\n",
        "      # Check for division by zero (vertical line)\n",
        "      if x1 == x2:\n",
        "        return None, None  # Handle vertical line case\n",
        "\n",
        "      slope = (y1 - y2) / (x1 - x2)  # Calculate slope\n",
        "      y_intercept = y1 - slope * x1  # Calculate y-intercept\n",
        "\n",
        "      return slope, y_intercept"
      ]
    },
    {
      "cell_type": "code",
      "execution_count": null,
      "metadata": {
        "id": "TmjkUyqdrUy6"
      },
      "outputs": [],
      "source": [
        "def showPoints(image_path, obj, color=(0, 0, 255), thickness=5):\n",
        "\n",
        "  # Read the image\n",
        "  image = cv2.imread(image_path)\n",
        "\n",
        "  if image is None:\n",
        "    print(f\"Error: Could not read image from '{image_path}'.\")\n",
        "    return\n",
        "\n",
        "  # Extract object coordinates\n",
        "  x1 = obj['xmin']\n",
        "  y1 = obj['ymin']\n",
        "  x2 = obj['xmax']\n",
        "  y2 = obj['ymax']\n",
        "\n",
        "  # Calculate center coordinates\n",
        "  center_x = int((x1 + x2) / 2)\n",
        "  center_y = int((y1 + y2) / 2)\n",
        "   # Calculate center coordinates\n",
        "  center_x = int((x1 + x2) / 2)\n",
        "  center_y = int((y1 + y2) / 2)\n",
        "\n",
        "  # Draw points for top-left, bottom-right corners, and center\n",
        "  cv2.circle(image, (x1, y1), radius=thickness, color=color, thickness=-1)  # Filled circle for top-left\n",
        "  cv2.circle(image, (x2, y1), radius=thickness, color=color, thickness=-1)  # Filled circle for top-right\n",
        "  cv2.circle(image, (x1, y2), radius=thickness, color=color, thickness=-1)  # Filled circle for bottom-left\n",
        "  cv2.circle(image, (x2, y2), radius=thickness, color=color, thickness=-1)  # Filled circle for bottom-right\n",
        "  cv2.circle(image, (center_x, center_y), radius=thickness, color=color, thickness=-1)  # Filled circle for center (corrected)\n",
        "\n",
        "  # Optionally display the image with points\n",
        "  cv2_imshow(image)"
      ]
    },
    {
      "cell_type": "code",
      "execution_count": null,
      "metadata": {
        "id": "GOtBWoWvVIML"
      },
      "outputs": [],
      "source": [
        "import cv2\n",
        "from google.colab.patches import cv2_imshow\n",
        "\n",
        "# Function to crop the grease region from the image\n",
        "def cropGrease(objects, image):\n",
        "    grease_object = None\n",
        "\n",
        "    # Find the grease object\n",
        "    for obj in objects:\n",
        "        if obj['class_id'] == 1:  # Check for class ID 1 (grease)\n",
        "            grease_object = obj\n",
        "            break\n",
        "\n",
        "    if grease_object is None:\n",
        "        print(\"No grease object found in the image.\")\n",
        "        return None, None\n",
        "\n",
        "    # Get bounding box coordinates\n",
        "    xmin = grease_object['xmin']\n",
        "    ymin = grease_object['ymin']\n",
        "    xmax = grease_object['xmax']\n",
        "    ymax = grease_object['ymax']\n",
        "    print(f\"Grease bounding box: xmin={xmin}, ymin={ymin}, xmax={xmax}, ymax={ymax}\")\n",
        "\n",
        "    # Ensure the coordinates are within the image dimensions\n",
        "    height, width = image.shape[:2]\n",
        "    xmin = max(0, min(xmin, width - 1))\n",
        "    ymin = max(0, min(ymin, height - 1))\n",
        "    xmax = max(0, min(xmax, width - 1))\n",
        "    ymax = max(0, min(ymax, height - 1))\n",
        "\n",
        "    # Crop the image using the bounding box coordinates\n",
        "    cropped_image = image[ymin:ymax, xmin:xmax]\n",
        "\n",
        "    return cropped_image, xmin\n",
        "\n",
        "\n"
      ]
    },
    {
      "cell_type": "code",
      "execution_count": null,
      "metadata": {
        "id": "G7aJekHTtzDf"
      },
      "outputs": [],
      "source": [
        "import cv2\n",
        "import numpy as np\n",
        "from google.colab.patches import cv2_imshow\n",
        "\n",
        "# Function to detect lines and calculate mean slope and intercept\n",
        "def calculateMeanSlopeIntercept(image):\n",
        "    #Grayscale\n",
        "    gray = cv2.cvtColor(image, cv2.COLOR_BGR2GRAY)\n",
        "    cv2_imshow(gray)\n",
        "\n",
        "    # Initialize Thresholds\n",
        "    low_threshold = 50\n",
        "    high_threshold = 150\n",
        "\n",
        "    # Loop to adjust Canny thresholds if no lines are detected\n",
        "    for canny_iteration in range(3):\n",
        "        if canny_iteration == 1:\n",
        "            low_threshold, high_threshold = 25, 50\n",
        "        elif canny_iteration == 2:\n",
        "            low_threshold, high_threshold = 75, 100\n",
        "\n",
        "        # Apply Canny edge detection\n",
        "        edges = cv2.Canny(gray, low_threshold, high_threshold, apertureSize=3)\n",
        "        cv2_imshow(edges)\n",
        "\n",
        "        threshold = 100  # Initial threshold for Hough Line Transform\n",
        "        min_lines = 1\n",
        "        lines = []\n",
        "\n",
        "        while threshold > 0:\n",
        "            # Detect lines using Hough Line Transform\n",
        "            lines = cv2.HoughLinesP(edges, 1, np.pi/180, threshold, minLineLength=100, maxLineGap=10)\n",
        "\n",
        "            # Check if at least one line is detected\n",
        "            if lines is not None and len(lines) >= min_lines:\n",
        "                break\n",
        "\n",
        "            # Decrease threshold to detect fewer lines\n",
        "            threshold -= 1\n",
        "\n",
        "        # Break if lines are found\n",
        "        if lines is not None and len(lines) >= min_lines:\n",
        "            break\n",
        "\n",
        "    if lines is None or len(lines) == 0:\n",
        "        print(\"No lines detected\")\n",
        "        return None, None\n",
        "\n",
        "    slopes = []\n",
        "    intercepts = []\n",
        "\n",
        "    # Calculate slopes and intercepts\n",
        "    for line in lines:\n",
        "        x1, y1, x2, y2 = line[0]\n",
        "        if x2 != x1:  # Avoid division by zero\n",
        "            slope = (y2 - y1) / (x2 - x1)\n",
        "            intercept = y1 - slope * x1\n",
        "            slopes.append(slope)\n",
        "            intercepts.append(intercept)\n",
        "\n",
        "            print(x1, y1, x2, y2)\n",
        "\n",
        "\n",
        "    # Calculate mean slope and intercept\n",
        "    mean_slope = np.mean(slopes)\n",
        "    mean_intercept = np.mean(intercepts)\n",
        "\n",
        "    return mean_slope, mean_intercept"
      ]
    },
    {
      "cell_type": "code",
      "execution_count": null,
      "metadata": {
        "id": "kYYbleVjcebR"
      },
      "outputs": [],
      "source": [
        "import cv2\n",
        "from google.colab.patches import cv2_imshow\n",
        "\n",
        "def drawInCropped(cropped_image, mean_slope, mean_intercept):\n",
        "    # Calculate two points for the average line\n",
        "    x1 = 0\n",
        "    y1 = int(mean_intercept)\n",
        "    x2 = int(cropped_image.shape[1])\n",
        "    y2 = int(mean_slope * x2 + mean_intercept)\n",
        "\n",
        "    # Draw the average line on the image\n",
        "    cv2.line(cropped_image, (x1, y1), (x2, y2), (0, 0, 255), 2)  # Green color, line thickness 2\n",
        "\n",
        "    # Calculate the region to crop based on the line coordinates\n",
        "    min_x = min(x1, x2)\n",
        "    max_x = max(x1, x2)\n",
        "    min_y = min(y1, y2)\n",
        "    max_y = max(y1, y2)\n",
        "\n",
        "    # Add some padding if needed\n",
        "    padding = 10\n",
        "    min_x = max(min_x - padding, 0)\n",
        "    max_x = min(max_x + padding, cropped_image.shape[1])\n",
        "    min_y = max(min_y - padding, 0)\n",
        "    max_y = min(max_y + padding, cropped_image.shape[0])\n",
        "\n",
        "    # Crop the image\n",
        "    cropped = cropped_image[min_y:max_y, min_x:max_x]\n",
        "\n",
        "    # Save the cropped image\n",
        "    cv2.imwrite('grease_image.jpg', cropped)\n",
        "\n",
        "    # Display the cropped image\n",
        "    cv2_imshow(cropped)\n",
        "    print(mean_intercept)\n",
        "    print(mean_slope)\n",
        "\n",
        "# Example usage:\n",
        "# Assuming cropped_grease_image is already defined, and mean_slope and mean_intercept are known\n",
        "# cropped_grease_image = cv2.imread('path_to_image.jpg')\n",
        "# drawInCropped(cropped_grease_image, mean_slope, mean_intercept)\n"
      ]
    },
    {
      "cell_type": "code",
      "execution_count": null,
      "metadata": {
        "id": "mXZjtbD9t98Y"
      },
      "outputs": [],
      "source": [
        "def lineOnFullimage(image, mean_slope, orginal_intercept):\n",
        "    # Calculate two points for the average line\n",
        "    x1 = 0\n",
        "    y1 = int(orginal_intercept)\n",
        "    x2 = int(image.shape[1])\n",
        "    y2 = int(mean_slope * x2 + orginal_intercept)\n",
        "\n",
        "    # Draw the average line on the image\n",
        "    #cv2.line(image, (x1, y1), (x2, y2), (0, 255, 0), 2)  # Green color, line thickness 2\n",
        "\n",
        "    # Calculate the region to crop based on the line coordinates\n",
        "    min_x = min(x1, x2)\n",
        "    max_x = max(x1, x2)\n",
        "    min_y = min(y1, y2)\n",
        "    max_y = max(y1, y2)\n",
        "\n",
        "    # Add some padding if needed\n",
        "    padding = 10\n",
        "    min_x = max(min_x - padding, 0)\n",
        "    max_x = min(max_x + padding, image.shape[1])\n",
        "    min_y = max(min_y - padding, 0)\n",
        "    max_y = min(max_y + padding, image.shape[0])\n",
        "\n",
        "    # Crop the image\n",
        "    orginal_with_line = image[min_y:max_y, min_x:max_x]\n",
        "\n",
        "    # Save the cropped image\n",
        "    cv2.imwrite('orginal_with_line.jpg', orginal_with_line)\n",
        "\n",
        "    # Display the cropped image\n",
        "    cv2_imshow(orginal_with_line)\n"
      ]
    },
    {
      "cell_type": "code",
      "execution_count": null,
      "metadata": {
        "id": "1HSw6w5xpy5t"
      },
      "outputs": [],
      "source": [
        "def createStumpToBatLine(stump, cbat):\n",
        "\n",
        "\n",
        "  if not cbat:\n",
        "    return None, None  # Handle no bat case\n",
        "\n",
        "  bat_center_x = (bat_object['xmin'] + bat_object['xmax']) / 2\n",
        "\n",
        "  stump_center_x = (stump['xmin'] + stump['xmax']) / 2\n",
        "\n",
        "  slope = (stump['ymax'] - bat_object['ymax']) / (stump_center_x - bat_center_x)\n",
        "  y_intercept = bat_object['ymax'] - slope * bat_center_x\n",
        "  return slope, y_intercept"
      ]
    },
    {
      "cell_type": "code",
      "execution_count": null,
      "metadata": {
        "id": "jNDrXgXIrElS"
      },
      "outputs": [],
      "source": [
        "import cv2\n",
        "from google.colab.patches import cv2_imshow\n",
        "import numpy as np\n",
        "\n",
        "def drawLine(image_path, slope, intercept, color=(0, 0, 255), thickness=2):\n",
        "\n",
        "\n",
        "  # Read the image\n",
        "  image = cv2.imread(image_path)\n",
        "\n",
        "  if image is None:\n",
        "    print(f\"Error: Could not read image from '{image_path}'.\")\n",
        "    return\n",
        "\n",
        "  # Get image height and width\n",
        "  image_height, image_width, _ = image.shape\n",
        " # Calculate starting and ending points for the line\n",
        "  # Ensure the line stays within image boundaries\n",
        "  y_start = max(0, int(intercept))  # Clamp y-start to image top\n",
        "  x_start = int((y_start - intercept) / slope)  # Calculate x-start based on y-start\n",
        "  y_end = min(image_height - 1, int(slope * (image_width - 1) + intercept))  # Clamp y-end to image bottom\n",
        "  x_end = int((y_end - intercept) / slope)  # Calculate x-end based on y-end\n",
        "\n",
        "  # Draw the line on the image\n",
        "  cv2.line(image, (x_start, y_start), (x_end, y_end), color, thickness)\n",
        "\n",
        "  cv2_imshow(image)"
      ]
    },
    {
      "cell_type": "code",
      "execution_count": null,
      "metadata": {
        "id": "qUP73TDnqY_t"
      },
      "outputs": [],
      "source": [
        "def findIntersectPoint(line1_params, line2_params):\n",
        "\n",
        "\n",
        "  m1, b1 = line1_params\n",
        "  m2, b2 = line2_params\n",
        "\n",
        "  # Check for parallel lines\n",
        "  if m1 == m2:\n",
        "    return None  # Parallel lines\n",
        "\n",
        "  # Calculate intersection point\n",
        "  x_intersect = (b2 - b1) / (m1 - m2)\n",
        "  y_intersect = m1 * x_intersect + b1\n",
        "\n",
        "  return x_intersect, y_intersect"
      ]
    },
    {
      "cell_type": "code",
      "execution_count": null,
      "metadata": {
        "id": "HZ_sV_Xsrq8L"
      },
      "outputs": [],
      "source": [
        "import cv2\n",
        "from google.colab.patches import cv2_imshow  # Only necessary if running in Google Colab\n",
        "\n",
        "def showIntersectionPoint(image_path, coordinate_point, color=(255, 0, 0), radius=5, thickness=5):\n",
        "\n",
        "    # Read the image\n",
        "    image = cv2.imread(image_path)\n",
        "\n",
        "    if image is None:\n",
        "        print(f\"Error: Could not read image from '{image_path}'.\")\n",
        "        return\n",
        "\n",
        "    # Extract intersection coordinates\n",
        "    x, y = coordinate_point\n",
        "\n",
        "    # Draw a point at the intersection coordinates\n",
        "    cv2.circle(image, (int(x), int(y)), radius=radius, color=color, thickness=thickness)  # Filled circle for intersection point\n",
        "\n",
        "    # Optionally display the image with the intersection point\n",
        "    cv2_imshow(image)"
      ]
    },
    {
      "cell_type": "code",
      "execution_count": null,
      "metadata": {
        "id": "GuLcN_m3ryPB"
      },
      "outputs": [],
      "source": [
        "import cv2\n",
        "from google.colab.patches import cv2_imshow  # Only necessary if running in Google Colab\n",
        "\n",
        "def showBothPoints(image_path, intersect_point,flipped, bat_point, intersect_color=(0, 0, 255), bat_color=(255, 0, 0), radius=5, thickness=5):\n",
        "\n",
        "    # Read the image\n",
        "    image = cv2.imread(image_path)\n",
        "\n",
        "    if image is None:\n",
        "        print(f\"Error: Could not read image from '{image_path}'.\")\n",
        "        return\n",
        "\n",
        "    # Extract intersection coordinates\n",
        "    intx, inty = intersect_point\n",
        "\n",
        "    # Extract bat closest coordinates\n",
        "    batx = bat_point['xmax'] if flipped else bat_point['xmin']\n",
        "    baty = bat_point['ymax']\n",
        "     # Draw a point at the intersection coordinates\n",
        "    cv2.circle(image, (int(intx), int(inty)), radius=radius, color=intersect_color, thickness=thickness)  # Intersection point\n",
        "    cv2.circle(image, (int(batx), int(baty)), radius=radius, color=bat_color, thickness=thickness)  # bat point\n",
        "\n",
        "    # Optionally display the image with the points\n",
        "    cv2_imshow(image)"
      ]
    },
    {
      "cell_type": "code",
      "execution_count": null,
      "metadata": {
        "id": "7Ve7WPuWwBV0"
      },
      "outputs": [],
      "source": [
        "import cv2\n",
        "from google.colab.patches import cv2_imshow\n",
        "\n",
        "def showBothPoints(image_path, intersect_point, bat_point, flipped, intersect_color=(255, 0, 0), bat_color=(0, 255, 0), radius=5, thickness=5):\n",
        "\n",
        "\n",
        "    # Read the image\n",
        "    image = cv2.imread(image_path)\n",
        "\n",
        "    if image is None:\n",
        "        print(f\"Error: Could not read image from '{image_path}'.\")\n",
        "        return\n",
        "\n",
        "    # Extract intersection coordinates\n",
        "    intx, inty = intersect_point\n",
        "\n",
        "    # Determine the bat point coordinates based on whether the image is flipped or not\n",
        "    batx = bat_point['xmax'] if flipped else bat_point['xmin']\n",
        "    baty = bat_point['ymax']\n",
        "\n",
        "    # Draw a point at the intersection coordinates\n",
        "    cv2.circle(image, (int(intx), int(inty)), radius=radius, color=intersect_color, thickness=thickness)  # Intersection point\n",
        "    cv2.circle(image, (int(batx), int(baty)), radius=radius, color=bat_color, thickness=thickness)  # Bat point\n",
        "\n",
        "    # Optionally display the image with the points\n",
        "    cv2_imshow(image)\n"
      ]
    },
    {
      "cell_type": "code",
      "execution_count": null,
      "metadata": {
        "id": "VFoU3UG8qg86"
      },
      "outputs": [],
      "source": [
        "def isOut(bat, intersection_point,stump_position):\n",
        "\n",
        "  if(stump_position['position']):\n",
        "    x_intersect, y_intersect = intersection_point\n",
        "    bat_xmin = bat['xmin']\n",
        "    bat_ymin = bat['ymax']\n",
        "\n",
        "\n",
        "    return x_intersect < bat_xmin\n",
        "  else:\n",
        "    x_intersect, y_intersect = intersection_point\n",
        "    bat_xmin = bat['xmax']\n",
        "    bat_ymin_ymin = bat['ymin']\n",
        "\n",
        "\n",
        "    return x_intersect > bat_xmin"
      ]
    },
    {
      "cell_type": "code",
      "execution_count": null,
      "metadata": {
        "colab": {
          "base_uri": "https://localhost:8080/"
        },
        "id": "JdAvz1XNBFdU",
        "outputId": "fd4c0b18-0cd5-4e78-ce3d-e2b227db1d49"
      },
      "outputs": [
        {
          "output_type": "stream",
          "name": "stdout",
          "text": [
            "Loaded boxes: [(2, 0.275526, 0.49738, 0.180854, 0.15136), (0, 0.682689, 0.398595, 0.0622654, 0.300818), (3, 0.220799, 0.645735, 0.0621815, 0.0633163), (1, 0.350316, 0.540908, 0.0315633, 0.503518), (3, 0.752335, 0.521737, 0.107998, 0.086007), (3, 0.0743966, 0.649352, 0.0707567, 0.0551299)]\n",
            "Objects before return: [{'class_id': 2, 'xmin': 47, 'ymin': 81, 'xmax': 94, 'ymax': 111}, {'class_id': 0, 'xmin': 168, 'ymin': 48, 'xmax': 184, 'ymax': 106}, {'class_id': 3, 'xmin': 49, 'ymin': 119, 'xmax': 65, 'ymax': 131}, {'class_id': 1, 'xmin': 86, 'ymin': 56, 'xmax': 94, 'ymax': 153}, {'class_id': 3, 'xmin': 180, 'ymin': 92, 'xmax': 208, 'ymax': 109}, {'class_id': 3, 'xmin': 10, 'ymin': 120, 'xmax': 28, 'ymax': 131}]\n",
            "Type of objects: <class 'list'>\n",
            "Objects: [{'class_id': 2, 'xmin': 47, 'ymin': 81, 'xmax': 94, 'ymax': 111}, {'class_id': 0, 'xmin': 168, 'ymin': 48, 'xmax': 184, 'ymax': 106}, {'class_id': 3, 'xmin': 49, 'ymin': 119, 'xmax': 65, 'ymax': 131}, {'class_id': 1, 'xmin': 86, 'ymin': 56, 'xmax': 94, 'ymax': 153}, {'class_id': 3, 'xmin': 180, 'ymin': 92, 'xmax': 208, 'ymax': 109}, {'class_id': 3, 'xmin': 10, 'ymin': 120, 'xmax': 28, 'ymax': 131}]\n",
            "The image is flipped.\n"
          ]
        }
      ],
      "source": [
        "import cv2\n",
        "\n",
        "# Function to load YOLO labels from a text file\n",
        "def load_one_yolo_labels(label_path):\n",
        "    boxes = []\n",
        "    with open(label_path, 'r') as file:\n",
        "        for line in file:\n",
        "            parts = line.strip().split()\n",
        "            if len(parts) == 5:\n",
        "                class_id = int(parts[0])\n",
        "                center_x = float(parts[1])\n",
        "                center_y = float(parts[2])\n",
        "                width = float(parts[3])\n",
        "                height = float(parts[4])\n",
        "                boxes.append((class_id, center_x, center_y, width, height))\n",
        "    return boxes\n",
        "\n",
        "# Function to parse YOLO label text file and return the predicted labels in a list\n",
        "def parse_yolo_txt(image_path, label_path):\n",
        "    objects = []\n",
        "\n",
        "    # Load image\n",
        "    image = cv2.imread(image_path)\n",
        "    if image is None:\n",
        "        print(f\"Error: Unable to load image from {image_path}\")\n",
        "        return objects, None\n",
        "\n",
        "    # Load labels\n",
        "    boxes = load_one_yolo_labels(label_path)\n",
        "    print(\"Loaded boxes:\", boxes)\n",
        "\n",
        "    # Draw bounding boxes on the image and store the predicted labels in a list\n",
        "    for box in boxes:\n",
        "        class_id, center_x, center_y, width, height = box\n",
        "        xmin = int((center_x - width / 2) * image.shape[1])\n",
        "        ymin = int((center_y - height / 2) * image.shape[0])\n",
        "        xmax = int((center_x + width / 2) * image.shape[1])\n",
        "        ymax = int((center_y + height / 2) * image.shape[0])\n",
        "\n",
        "        objects.append({\n",
        "            'class_id': class_id,\n",
        "            'xmin': xmin,\n",
        "            'ymin': ymin,\n",
        "            'xmax': xmax,\n",
        "            'ymax': ymax\n",
        "        })\n",
        "\n",
        "    # Determine if the image is flipped\n",
        "    flipped = None\n",
        "    class_0 = next((obj for obj in objects if obj['class_id'] == 0), None)\n",
        "    class_1 = next((obj for obj in objects if obj['class_id'] == 1), None)\n",
        "\n",
        "    if class_0 and class_1:\n",
        "        if class_0['xmin'] < class_1['xmin']:\n",
        "            flipped = False\n",
        "        elif class_0['xmin'] > class_1['xmin']:\n",
        "            flipped = True\n",
        "\n",
        "    print(\"Objects before return:\", objects)\n",
        "    return objects, flipped\n",
        "\n",
        "# Example usage\n",
        "image_path = \"/content/drive/MyDrive/aug/test/images.jpg\"\n",
        "label_path = \"/content/drive/MyDrive/aug/Predictions/results17/labels/images.txt\"\n",
        "\n",
        "\n",
        "objects, flipped = parse_yolo_txt(image_path, label_path)\n",
        "\n",
        "print(\"Type of objects:\", type(objects))\n",
        "print(\"Objects:\", objects)  # Print the entire objects list to check its structure\n",
        "\n",
        "if flipped is not None:\n",
        "    if flipped:\n",
        "        print(\"The image is flipped.\")\n",
        "    else:\n",
        "        print(\"The image is not flipped.\")\n",
        "else:\n",
        "    print(\"Not enough data to determine if the image is flipped.\")\n"
      ]
    },
    {
      "cell_type": "code",
      "execution_count": null,
      "metadata": {
        "colab": {
          "base_uri": "https://localhost:8080/",
          "height": 1000
        },
        "id": "fTAEhxt5DCSD",
        "outputId": "47ded256-db2f-4283-ce4e-4d73ca52f2d7"
      },
      "outputs": [
        {
          "output_type": "stream",
          "name": "stdout",
          "text": [
            "===== Object Data =====\n",
            "Class ID: 2\n",
            "Bounding Box: (47, 81) - (94, 111)\n",
            "Class ID: 0\n",
            "Bounding Box: (168, 48) - (184, 106)\n",
            "Class ID: 3\n",
            "Bounding Box: (49, 119) - (65, 131)\n",
            "Class ID: 1\n",
            "Bounding Box: (86, 56) - (94, 153)\n",
            "Class ID: 3\n",
            "Bounding Box: (180, 92) - (208, 109)\n",
            "Class ID: 3\n",
            "Bounding Box: (10, 120) - (28, 131)\n",
            "========================\n",
            "Crease Centre X: 90.0\n",
            "========================\n",
            "Stump Center X: 176\n",
            "========================\n",
            "Stump Position: [{'class_id': 0, 'xmin': 168, 'ymin': 48, 'xmax': 184, 'ymax': 106, 'position': 0}]\n",
            "========================\n",
            "Grease Object: {'class_id': 1, 'xmin': 86, 'ymin': 56, 'xmax': 94, 'ymax': 153}\n",
            "========================\n",
            "Bat Object: {'class_id': 2, 'xmin': 47, 'ymin': 81, 'xmax': 94, 'ymax': 111}\n",
            "========================\n",
            "Stump Object: {'class_id': 0, 'xmin': 168, 'ymin': 48, 'xmax': 184, 'ymax': 106}\n",
            "========================\n"
          ]
        },
        {
          "output_type": "display_data",
          "data": {
            "text/plain": [
              "<PIL.Image.Image image mode=RGB size=259x194>"
            ],
            "image/png": "[encoded data removed]"
          },
          "metadata": {}
        },
        {
          "output_type": "display_data",
          "data": {
            "text/plain": [
              "<PIL.Image.Image image mode=RGB size=259x194>"
            ],
            "image/png": "[encoded data removed]"
          },
          "metadata": {}
        },
        {
          "output_type": "display_data",
          "data": {
            "text/plain": [
              "<PIL.Image.Image image mode=RGB size=259x194>"
            ],
            "image/png": "[encoded data removed]"
          },
          "metadata": {}
        },
        {
          "output_type": "stream",
          "name": "stdout",
          "text": [
            "Grease bounding box: xmin=86, ymin=56, xmax=94, ymax=153\n"
          ]
        },
        {
          "output_type": "display_data",
          "data": {
            "text/plain": [
              "<PIL.Image.Image image mode=RGB size=8x97>"
            ],
            "image/png": "[encoded data removed]"
          },
          "metadata": {}
        },
        {
          "output_type": "stream",
          "name": "stdout",
          "text": [
            "========================\n"
          ]
        },
        {
          "output_type": "display_data",
          "data": {
            "text/plain": [
              "<PIL.Image.Image image mode=L size=8x97>"
            ],
            "image/png": "[encoded data removed]"
          },
          "metadata": {}
        },
        {
          "output_type": "display_data",
          "data": {
            "text/plain": [
              "<PIL.Image.Image image mode=L size=8x97>"
            ],
            "image/png": "[encoded data removed]"
          },
          "metadata": {}
        },
        {
          "output_type": "display_data",
          "data": {
            "text/plain": [
              "<PIL.Image.Image image mode=L size=8x97>"
            ],
            "image/png": "[encoded data removed]"
          },
          "metadata": {}
        },
        {
          "output_type": "display_data",
          "data": {
            "text/plain": [
              "<PIL.Image.Image image mode=L size=8x97>"
            ],
            "image/png": "[encoded data removed]"
          },
          "metadata": {}
        },
        {
          "output_type": "stream",
          "name": "stdout",
          "text": [
            "No lines detected\n",
            "Mean Slope: None\n",
            "Mean Intercept: None\n",
            "========================\n"
          ]
        },
        {
          "output_type": "error",
          "ename": "TypeError",
          "evalue": "int() argument must be a string, a bytes-like object or a real number, not 'NoneType'",
          "traceback": [
            "\u001b[0;31m---------------------------------------------------------------------------\u001b[0m",
            "\u001b[0;31mTypeError\u001b[0m                                 Traceback (most recent call last)",
            "\u001b[0;32m<ipython-input-29-438eba96a29f>\u001b[0m in \u001b[0;36m<cell line: 77>\u001b[0;34m()\u001b[0m\n\u001b[1;32m     75\u001b[0m \u001b[0mprint\u001b[0m\u001b[0;34m(\u001b[0m\u001b[0;34m\"========================\"\u001b[0m\u001b[0;34m)\u001b[0m\u001b[0;34m\u001b[0m\u001b[0;34m\u001b[0m\u001b[0m\n\u001b[1;32m     76\u001b[0m \u001b[0;34m\u001b[0m\u001b[0m\n\u001b[0;32m---> 77\u001b[0;31m \u001b[0mdrawInCropped\u001b[0m\u001b[0;34m(\u001b[0m\u001b[0mcropped_image\u001b[0m\u001b[0;34m,\u001b[0m \u001b[0mmean_slope\u001b[0m\u001b[0;34m,\u001b[0m \u001b[0mmean_intercept\u001b[0m\u001b[0;34m)\u001b[0m\u001b[0;34m\u001b[0m\u001b[0;34m\u001b[0m\u001b[0m\n\u001b[0m\u001b[1;32m     78\u001b[0m \u001b[0;34m\u001b[0m\u001b[0m\n\u001b[1;32m     79\u001b[0m \u001b[0;31m# Calculate the original intercept\u001b[0m\u001b[0;34m\u001b[0m\u001b[0;34m\u001b[0m\u001b[0m\n",
            "\u001b[0;32m<ipython-input-14-b6e7a2365072>\u001b[0m in \u001b[0;36mdrawInCropped\u001b[0;34m(cropped_image, mean_slope, mean_intercept)\u001b[0m\n\u001b[1;32m      5\u001b[0m     \u001b[0;31m# Calculate two points for the average line\u001b[0m\u001b[0;34m\u001b[0m\u001b[0;34m\u001b[0m\u001b[0m\n\u001b[1;32m      6\u001b[0m     \u001b[0mx1\u001b[0m \u001b[0;34m=\u001b[0m \u001b[0;36m0\u001b[0m\u001b[0;34m\u001b[0m\u001b[0;34m\u001b[0m\u001b[0m\n\u001b[0;32m----> 7\u001b[0;31m     \u001b[0my1\u001b[0m \u001b[0;34m=\u001b[0m \u001b[0mint\u001b[0m\u001b[0;34m(\u001b[0m\u001b[0mmean_intercept\u001b[0m\u001b[0;34m)\u001b[0m\u001b[0;34m\u001b[0m\u001b[0;34m\u001b[0m\u001b[0m\n\u001b[0m\u001b[1;32m      8\u001b[0m     \u001b[0mx2\u001b[0m \u001b[0;34m=\u001b[0m \u001b[0mint\u001b[0m\u001b[0;34m(\u001b[0m\u001b[0mcropped_image\u001b[0m\u001b[0;34m.\u001b[0m\u001b[0mshape\u001b[0m\u001b[0;34m[\u001b[0m\u001b[0;36m1\u001b[0m\u001b[0;34m]\u001b[0m\u001b[0;34m)\u001b[0m\u001b[0;34m\u001b[0m\u001b[0;34m\u001b[0m\u001b[0m\n\u001b[1;32m      9\u001b[0m     \u001b[0my2\u001b[0m \u001b[0;34m=\u001b[0m \u001b[0mint\u001b[0m\u001b[0;34m(\u001b[0m\u001b[0mmean_slope\u001b[0m \u001b[0;34m*\u001b[0m \u001b[0mx2\u001b[0m \u001b[0;34m+\u001b[0m \u001b[0mmean_intercept\u001b[0m\u001b[0;34m)\u001b[0m\u001b[0;34m\u001b[0m\u001b[0;34m\u001b[0m\u001b[0m\n",
            "\u001b[0;31mTypeError\u001b[0m: int() argument must be a string, a bytes-like object or a real number, not 'NoneType'"
          ]
        }
      ],
      "source": [
        "import cv2\n",
        "from google.colab.patches import cv2_imshow\n",
        "\n",
        "# Access individual object data:\n",
        "print(\"===== Object Data =====\")\n",
        "for obj in objects:\n",
        "    print(f\"Class ID: {obj['class_id']}\")\n",
        "    print(f\"Bounding Box: ({obj['xmin']}, {obj['ymin']}) - ({obj['xmax']}, {obj['ymax']})\")\n",
        "print(\"========================\")\n",
        "\n",
        "crease_centre_x = findGreaseCenter(objects)\n",
        "print(f\"Crease Centre X: {crease_centre_x}\")\n",
        "print(\"========================\")\n",
        "\n",
        "for obj in objects:\n",
        "    if obj['class_id'] == 0:\n",
        "        stump_center_x = (obj['xmin'] + obj['xmax']) // 2\n",
        "        stumps_centre_x = stump_center_x\n",
        "print(f\"Stump Center X: {stump_center_x}\")\n",
        "print(\"========================\")\n",
        "\n",
        "stump_position = locateStumpPosition(objects, crease_centre_x)\n",
        "print(f\"Stump Position: {stump_position}\")\n",
        "print(\"========================\")\n",
        "\n",
        "#view = checkView(objects, image_path)\n",
        "\n",
        "\n",
        "\n",
        "for obj in objects:\n",
        "    if obj['class_id'] == 1:\n",
        "        grease_object = obj\n",
        "print(f\"Grease Object: {grease_object}\")\n",
        "print(\"========================\")\n",
        "\n",
        "\n",
        "for obj in objects:\n",
        "    if obj['class_id'] == 2:\n",
        "        bat_object = obj\n",
        "print(f\"Bat Object: {bat_object}\")\n",
        "print(\"========================\")\n",
        "\n",
        "for obj in objects:\n",
        "    if obj['class_id'] == 0:\n",
        "        stump_object = obj\n",
        "print(f\"Stump Object: {stump_object}\")\n",
        "print(\"========================\")\n",
        "\n",
        "showPoints(image_path, grease_object)\n",
        "\n",
        "showPoints(image_path, stump_object)\n",
        "\n",
        "showPoints(image_path, bat_object)\n",
        "\n",
        "\n",
        "\n",
        "# Path to save the cropped image\n",
        "cropped_image_path = '/content/drive/MyDrive/aug/cropped/crop2.jpg'\n",
        "\n",
        "# Load the image\n",
        "image = cv2.imread(image_path)\n",
        "\n",
        "# Crop the grease region from the image\n",
        "cropped_image, xmin = cropGrease(objects, image)\n",
        "\n",
        "# Save and display the cropped image\n",
        "if cropped_image is not None:\n",
        "    cv2.imwrite(cropped_image_path, cropped_image)\n",
        "    cv2_imshow(cropped_image)\n",
        "print(\"========================\")\n",
        "\n",
        "mean_slope, mean_intercept = calculateMeanSlopeIntercept(cropped_image)\n",
        "print(f\"Mean Slope: {mean_slope}\")\n",
        "print(f\"Mean Intercept: {mean_intercept}\")\n",
        "print(\"========================\")\n",
        "\n",
        "drawInCropped(cropped_image, mean_slope, mean_intercept)\n",
        "\n",
        "# Calculate the original intercept\n",
        "orginal_intercept = mean_intercept - mean_slope * grease_object['xmin'] + grease_object['ymin']\n",
        "print(f\"Mean Slope: {mean_slope}\")\n",
        "print(f\"Mean Intercept: {mean_intercept}\")\n",
        "print(f\"Original Intercept: {orginal_intercept}\")\n",
        "\n",
        "print(\"========================\")\n",
        "\n",
        "lineOnFullimage(image, mean_slope, orginal_intercept)\n",
        "\n",
        "\n",
        "# Grease line\n",
        "grease_line_params = createLine(grease_object, stump_position[0])\n",
        "print(f\"Grease Line Parameters: {grease_line_params}\")\n",
        "print(\"========================\")\n",
        "\n",
        "# Stumps-shoe line\n",
        "stump_bat_line_params = createStumpToBatLine(stump_object, bat_object)\n",
        "print(f\"Stump-Bat Line Parameters: {stump_bat_line_params}\")\n",
        "print(\"========================\")\n",
        "\n",
        "stump_bat_slope, stump_bat_intercept = stump_bat_line_params\n",
        "drawLine(image_path, stump_bat_slope, stump_bat_intercept)\n",
        "\n",
        "# Intersection\n",
        "intersection_point = findIntersectPoint(grease_line_params, stump_bat_line_params)\n",
        "x, y = intersection_point\n",
        "print(f\"Grease Line intersects Stump-Bat Line at: ({x:.2f}, {y:.2f})\")\n",
        "print(\"========================\")\n",
        "\n",
        "showIntersectionPoint(image_path, intersection_point)\n",
        "\n",
        "showBothPoints(image_path, intersection_point, bat_object, flipped)\n",
        "\n",
        "is_out = isOut(bat_object, intersection_point, stump_position[0])\n",
        "\n",
        "# Critical output\n",
        "print(\"\\n\" + \"=\"*30)\n",
        "if is_out:\n",
        "    print(\"\\n\" + \"*\"*10 + \" OUT \" + \"*\"*10 + \"\\n\")\n",
        "else:\n",
        "    print(\"\\n\" + \"*\"*10 + \" NOT OUT \" + \"*\"*10 + \"\\n\")\n",
        "print(\"=\"*30 + \"\\n\")\n"
      ]
    }
  ],
  "metadata": {
    "colab": {
      "provenance": []
    },
    "kernelspec": {
      "display_name": "Python 3",
      "name": "python3"
    },
    "language_info": {
      "name": "python"
    }
  },
  "nbformat": 4,
  "nbformat_minor": 0
}